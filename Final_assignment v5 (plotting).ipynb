{
 "cells": [
  {
   "cell_type": "code",
   "execution_count": 1,
   "metadata": {},
   "outputs": [
    {
     "data": {
      "text/html": [
       "        <script type=\"text/javascript\">\n",
       "        window.PlotlyConfig = {MathJaxConfig: 'local'};\n",
       "        if (window.MathJax && window.MathJax.Hub && window.MathJax.Hub.Config) {window.MathJax.Hub.Config({SVG: {font: \"STIX-Web\"}});}\n",
       "        if (typeof require !== 'undefined') {\n",
       "        require.undef(\"plotly\");\n",
       "        requirejs.config({\n",
       "            paths: {\n",
       "                'plotly': ['https://cdn.plot.ly/plotly-2.14.0.min']\n",
       "            }\n",
       "        });\n",
       "        require(['plotly'], function(Plotly) {\n",
       "            window._Plotly = Plotly;\n",
       "        });\n",
       "        }\n",
       "        </script>\n",
       "        "
      ]
     },
     "metadata": {},
     "output_type": "display_data"
    }
   ],
   "source": [
    "import numpy as np\n",
    "import pandas as pd\n",
    "import matplotlib.pyplot as plt\n",
    "import plotly.graph_objs as go\n",
    "import datetime\n",
    "import seaborn as sns\n",
    "import plotly\n",
    "import plotly.offline as offline\n",
    "offline.init_notebook_mode(connected=True)\n",
    "from scipy import stats"
   ]
  },
  {
   "cell_type": "code",
   "execution_count": 2,
   "metadata": {},
   "outputs": [
    {
     "data": {
      "text/html": [
       "<div>\n",
       "<style scoped>\n",
       "    .dataframe tbody tr th:only-of-type {\n",
       "        vertical-align: middle;\n",
       "    }\n",
       "\n",
       "    .dataframe tbody tr th {\n",
       "        vertical-align: top;\n",
       "    }\n",
       "\n",
       "    .dataframe thead th {\n",
       "        text-align: right;\n",
       "    }\n",
       "</style>\n",
       "<table border=\"1\" class=\"dataframe\">\n",
       "  <thead>\n",
       "    <tr style=\"text-align: right;\">\n",
       "      <th></th>\n",
       "      <th>Unnamed: 0.1</th>\n",
       "      <th>Unnamed: 0</th>\n",
       "      <th>timestamp</th>\n",
       "      <th>company</th>\n",
       "      <th>level</th>\n",
       "      <th>title</th>\n",
       "      <th>totalyearlycompensation</th>\n",
       "      <th>yearsofexperience</th>\n",
       "      <th>yearsatcompany</th>\n",
       "      <th>tag</th>\n",
       "      <th>basesalary</th>\n",
       "      <th>stockgrantvalue</th>\n",
       "      <th>bonus</th>\n",
       "      <th>State</th>\n",
       "      <th>Country</th>\n",
       "      <th>Time</th>\n",
       "    </tr>\n",
       "  </thead>\n",
       "  <tbody>\n",
       "    <tr>\n",
       "      <th>0</th>\n",
       "      <td>0</td>\n",
       "      <td>0</td>\n",
       "      <td>6/7/2017 11:33:27</td>\n",
       "      <td>Oracle</td>\n",
       "      <td>L3</td>\n",
       "      <td>Product Manager</td>\n",
       "      <td>127000</td>\n",
       "      <td>1.5</td>\n",
       "      <td>1.5</td>\n",
       "      <td>NaN</td>\n",
       "      <td>149800.0</td>\n",
       "      <td>20000.0</td>\n",
       "      <td>10000.0</td>\n",
       "      <td>CA</td>\n",
       "      <td>USA</td>\n",
       "      <td>2017-06-07 11:33:27</td>\n",
       "    </tr>\n",
       "    <tr>\n",
       "      <th>1</th>\n",
       "      <td>1</td>\n",
       "      <td>1</td>\n",
       "      <td>6/10/2017 17:11:29</td>\n",
       "      <td>eBay</td>\n",
       "      <td>SE 2</td>\n",
       "      <td>Software Engineer</td>\n",
       "      <td>100000</td>\n",
       "      <td>5.0</td>\n",
       "      <td>3.0</td>\n",
       "      <td>NaN</td>\n",
       "      <td>0.0</td>\n",
       "      <td>0.0</td>\n",
       "      <td>0.0</td>\n",
       "      <td>CA</td>\n",
       "      <td>USA</td>\n",
       "      <td>2017-06-10 17:11:29</td>\n",
       "    </tr>\n",
       "    <tr>\n",
       "      <th>2</th>\n",
       "      <td>2</td>\n",
       "      <td>2</td>\n",
       "      <td>6/11/2017 14:53:57</td>\n",
       "      <td>Amazon</td>\n",
       "      <td>L7</td>\n",
       "      <td>Product Manager</td>\n",
       "      <td>310000</td>\n",
       "      <td>8.0</td>\n",
       "      <td>0.0</td>\n",
       "      <td>NaN</td>\n",
       "      <td>217000.0</td>\n",
       "      <td>0.0</td>\n",
       "      <td>0.0</td>\n",
       "      <td>WA</td>\n",
       "      <td>USA</td>\n",
       "      <td>2017-06-11 14:53:57</td>\n",
       "    </tr>\n",
       "    <tr>\n",
       "      <th>3</th>\n",
       "      <td>3</td>\n",
       "      <td>3</td>\n",
       "      <td>6/17/2017 0:23:14</td>\n",
       "      <td>Apple</td>\n",
       "      <td>M1</td>\n",
       "      <td>Software Engineering Manager</td>\n",
       "      <td>372000</td>\n",
       "      <td>7.0</td>\n",
       "      <td>5.0</td>\n",
       "      <td>NaN</td>\n",
       "      <td>219800.0</td>\n",
       "      <td>180000.0</td>\n",
       "      <td>35000.0</td>\n",
       "      <td>CA</td>\n",
       "      <td>USA</td>\n",
       "      <td>2017-06-17 00:23:14</td>\n",
       "    </tr>\n",
       "    <tr>\n",
       "      <th>4</th>\n",
       "      <td>4</td>\n",
       "      <td>4</td>\n",
       "      <td>6/20/2017 10:58:51</td>\n",
       "      <td>Microsoft</td>\n",
       "      <td>60</td>\n",
       "      <td>Software Engineer</td>\n",
       "      <td>157000</td>\n",
       "      <td>5.0</td>\n",
       "      <td>3.0</td>\n",
       "      <td>NaN</td>\n",
       "      <td>0.0</td>\n",
       "      <td>0.0</td>\n",
       "      <td>0.0</td>\n",
       "      <td>CA</td>\n",
       "      <td>USA</td>\n",
       "      <td>2017-06-20 10:58:51</td>\n",
       "    </tr>\n",
       "  </tbody>\n",
       "</table>\n",
       "</div>"
      ],
      "text/plain": [
       "   Unnamed: 0.1  Unnamed: 0           timestamp    company level  \\\n",
       "0             0           0   6/7/2017 11:33:27     Oracle    L3   \n",
       "1             1           1  6/10/2017 17:11:29       eBay  SE 2   \n",
       "2             2           2  6/11/2017 14:53:57     Amazon    L7   \n",
       "3             3           3   6/17/2017 0:23:14      Apple    M1   \n",
       "4             4           4  6/20/2017 10:58:51  Microsoft    60   \n",
       "\n",
       "                          title  totalyearlycompensation  yearsofexperience  \\\n",
       "0               Product Manager                   127000                1.5   \n",
       "1             Software Engineer                   100000                5.0   \n",
       "2               Product Manager                   310000                8.0   \n",
       "3  Software Engineering Manager                   372000                7.0   \n",
       "4             Software Engineer                   157000                5.0   \n",
       "\n",
       "   yearsatcompany  tag  basesalary  stockgrantvalue    bonus State Country  \\\n",
       "0             1.5  NaN    149800.0          20000.0  10000.0    CA     USA   \n",
       "1             3.0  NaN         0.0              0.0      0.0    CA     USA   \n",
       "2             0.0  NaN    217000.0              0.0      0.0    WA     USA   \n",
       "3             5.0  NaN    219800.0         180000.0  35000.0    CA     USA   \n",
       "4             3.0  NaN         0.0              0.0      0.0    CA     USA   \n",
       "\n",
       "                 Time  \n",
       "0 2017-06-07 11:33:27  \n",
       "1 2017-06-10 17:11:29  \n",
       "2 2017-06-11 14:53:57  \n",
       "3 2017-06-17 00:23:14  \n",
       "4 2017-06-20 10:58:51  "
      ]
     },
     "execution_count": 2,
     "metadata": {},
     "output_type": "execute_result"
    }
   ],
   "source": [
    "df_data_science_salaries_plot = pd.read_csv(\"Data Science Salaries(plotting).csv\")\n",
    "\n",
    "df_data_science_salaries_plot['Time'] = pd.to_datetime(df_data_science_salaries_plot['Time'])\n",
    "\n",
    "df_data_science_salaries_plot.head()"
   ]
  },
  {
   "cell_type": "code",
   "execution_count": 3,
   "metadata": {},
   "outputs": [
    {
     "data": {
      "text/plain": [
       "Unnamed: 0.1                        int64\n",
       "Unnamed: 0                          int64\n",
       "timestamp                          object\n",
       "company                            object\n",
       "level                              object\n",
       "title                              object\n",
       "totalyearlycompensation             int64\n",
       "yearsofexperience                 float64\n",
       "yearsatcompany                    float64\n",
       "tag                                object\n",
       "basesalary                        float64\n",
       "stockgrantvalue                   float64\n",
       "bonus                             float64\n",
       "State                              object\n",
       "Country                            object\n",
       "Time                       datetime64[ns]\n",
       "dtype: object"
      ]
     },
     "execution_count": 3,
     "metadata": {},
     "output_type": "execute_result"
    }
   ],
   "source": [
    "df_data_science_salaries_plot.dtypes"
   ]
  },
  {
   "cell_type": "markdown",
   "metadata": {},
   "source": [
    "# Best Paying Company"
   ]
  },
  {
   "cell_type": "code",
   "execution_count": 4,
   "metadata": {},
   "outputs": [
    {
     "name": "stdout",
     "output_type": "stream",
     "text": [
      "Number of data values in base salary that are 0: 1909\n",
      "Mean of basesalary, excluding the zeros: SGD 207954.73\n"
     ]
    },
    {
     "data": {
      "text/html": [
       "<div>\n",
       "<style scoped>\n",
       "    .dataframe tbody tr th:only-of-type {\n",
       "        vertical-align: middle;\n",
       "    }\n",
       "\n",
       "    .dataframe tbody tr th {\n",
       "        vertical-align: top;\n",
       "    }\n",
       "\n",
       "    .dataframe thead th {\n",
       "        text-align: right;\n",
       "    }\n",
       "</style>\n",
       "<table border=\"1\" class=\"dataframe\">\n",
       "  <thead>\n",
       "    <tr style=\"text-align: right;\">\n",
       "      <th></th>\n",
       "      <th>Unnamed: 0.1</th>\n",
       "      <th>Unnamed: 0</th>\n",
       "      <th>timestamp</th>\n",
       "      <th>company</th>\n",
       "      <th>level</th>\n",
       "      <th>title</th>\n",
       "      <th>totalyearlycompensation</th>\n",
       "      <th>yearsofexperience</th>\n",
       "      <th>yearsatcompany</th>\n",
       "      <th>tag</th>\n",
       "      <th>basesalary</th>\n",
       "      <th>stockgrantvalue</th>\n",
       "      <th>bonus</th>\n",
       "      <th>State</th>\n",
       "      <th>Country</th>\n",
       "      <th>Time</th>\n",
       "    </tr>\n",
       "  </thead>\n",
       "  <tbody>\n",
       "    <tr>\n",
       "      <th>0</th>\n",
       "      <td>0</td>\n",
       "      <td>0</td>\n",
       "      <td>6/7/2017 11:33:27</td>\n",
       "      <td>Oracle</td>\n",
       "      <td>L3</td>\n",
       "      <td>Product Manager</td>\n",
       "      <td>127000</td>\n",
       "      <td>1.5</td>\n",
       "      <td>1.5</td>\n",
       "      <td>NaN</td>\n",
       "      <td>149800.000000</td>\n",
       "      <td>20000.0</td>\n",
       "      <td>10000.0</td>\n",
       "      <td>CA</td>\n",
       "      <td>USA</td>\n",
       "      <td>2017-06-07 11:33:27</td>\n",
       "    </tr>\n",
       "    <tr>\n",
       "      <th>1</th>\n",
       "      <td>1</td>\n",
       "      <td>1</td>\n",
       "      <td>6/10/2017 17:11:29</td>\n",
       "      <td>eBay</td>\n",
       "      <td>SE 2</td>\n",
       "      <td>Software Engineer</td>\n",
       "      <td>100000</td>\n",
       "      <td>5.0</td>\n",
       "      <td>3.0</td>\n",
       "      <td>NaN</td>\n",
       "      <td>207954.733206</td>\n",
       "      <td>0.0</td>\n",
       "      <td>0.0</td>\n",
       "      <td>CA</td>\n",
       "      <td>USA</td>\n",
       "      <td>2017-06-10 17:11:29</td>\n",
       "    </tr>\n",
       "    <tr>\n",
       "      <th>2</th>\n",
       "      <td>2</td>\n",
       "      <td>2</td>\n",
       "      <td>6/11/2017 14:53:57</td>\n",
       "      <td>Amazon</td>\n",
       "      <td>L7</td>\n",
       "      <td>Product Manager</td>\n",
       "      <td>310000</td>\n",
       "      <td>8.0</td>\n",
       "      <td>0.0</td>\n",
       "      <td>NaN</td>\n",
       "      <td>217000.000000</td>\n",
       "      <td>0.0</td>\n",
       "      <td>0.0</td>\n",
       "      <td>WA</td>\n",
       "      <td>USA</td>\n",
       "      <td>2017-06-11 14:53:57</td>\n",
       "    </tr>\n",
       "    <tr>\n",
       "      <th>3</th>\n",
       "      <td>3</td>\n",
       "      <td>3</td>\n",
       "      <td>6/17/2017 0:23:14</td>\n",
       "      <td>Apple</td>\n",
       "      <td>M1</td>\n",
       "      <td>Software Engineering Manager</td>\n",
       "      <td>372000</td>\n",
       "      <td>7.0</td>\n",
       "      <td>5.0</td>\n",
       "      <td>NaN</td>\n",
       "      <td>219800.000000</td>\n",
       "      <td>180000.0</td>\n",
       "      <td>35000.0</td>\n",
       "      <td>CA</td>\n",
       "      <td>USA</td>\n",
       "      <td>2017-06-17 00:23:14</td>\n",
       "    </tr>\n",
       "    <tr>\n",
       "      <th>4</th>\n",
       "      <td>4</td>\n",
       "      <td>4</td>\n",
       "      <td>6/20/2017 10:58:51</td>\n",
       "      <td>Microsoft</td>\n",
       "      <td>60</td>\n",
       "      <td>Software Engineer</td>\n",
       "      <td>157000</td>\n",
       "      <td>5.0</td>\n",
       "      <td>3.0</td>\n",
       "      <td>NaN</td>\n",
       "      <td>207954.733206</td>\n",
       "      <td>0.0</td>\n",
       "      <td>0.0</td>\n",
       "      <td>CA</td>\n",
       "      <td>USA</td>\n",
       "      <td>2017-06-20 10:58:51</td>\n",
       "    </tr>\n",
       "  </tbody>\n",
       "</table>\n",
       "</div>"
      ],
      "text/plain": [
       "   Unnamed: 0.1  Unnamed: 0           timestamp    company level  \\\n",
       "0             0           0   6/7/2017 11:33:27     Oracle    L3   \n",
       "1             1           1  6/10/2017 17:11:29       eBay  SE 2   \n",
       "2             2           2  6/11/2017 14:53:57     Amazon    L7   \n",
       "3             3           3   6/17/2017 0:23:14      Apple    M1   \n",
       "4             4           4  6/20/2017 10:58:51  Microsoft    60   \n",
       "\n",
       "                          title  totalyearlycompensation  yearsofexperience  \\\n",
       "0               Product Manager                   127000                1.5   \n",
       "1             Software Engineer                   100000                5.0   \n",
       "2               Product Manager                   310000                8.0   \n",
       "3  Software Engineering Manager                   372000                7.0   \n",
       "4             Software Engineer                   157000                5.0   \n",
       "\n",
       "   yearsatcompany  tag     basesalary  stockgrantvalue    bonus State Country  \\\n",
       "0             1.5  NaN  149800.000000          20000.0  10000.0    CA     USA   \n",
       "1             3.0  NaN  207954.733206              0.0      0.0    CA     USA   \n",
       "2             0.0  NaN  217000.000000              0.0      0.0    WA     USA   \n",
       "3             5.0  NaN  219800.000000         180000.0  35000.0    CA     USA   \n",
       "4             3.0  NaN  207954.733206              0.0      0.0    CA     USA   \n",
       "\n",
       "                 Time  \n",
       "0 2017-06-07 11:33:27  \n",
       "1 2017-06-10 17:11:29  \n",
       "2 2017-06-11 14:53:57  \n",
       "3 2017-06-17 00:23:14  \n",
       "4 2017-06-20 10:58:51  "
      ]
     },
     "execution_count": 4,
     "metadata": {},
     "output_type": "execute_result"
    }
   ],
   "source": [
    "# Checking number of values counts that have 0 basesalary\n",
    "\n",
    "print(f\"Number of data values in base salary that are 0: {df_data_science_salaries_plot['basesalary'].where(df_data_science_salaries_plot['basesalary'] == 0).count()}\")\n",
    "\n",
    "# Finding mean of basesalary without the data values that are zero\n",
    "avg_basesalary = df_data_science_salaries_plot['basesalary'].where(df_data_science_salaries_plot['basesalary'] != 0).mean()\n",
    "\n",
    "print(f\"Mean of basesalary, excluding the zeros: SGD {avg_basesalary:.2f}\")\n",
    "\n",
    "#Replacing 0 data values with avg_basesalary\n",
    "\n",
    "df_data_science_salaries_plot['basesalary'].replace(to_replace = 0, value = avg_basesalary, inplace= True)\n",
    "\n",
    "#Double checking\n",
    "\n",
    "df_data_science_salaries_plot.head()"
   ]
  },
  {
   "cell_type": "code",
   "execution_count": 5,
   "metadata": {},
   "outputs": [
    {
     "data": {
      "text/html": [
       "<div>\n",
       "<style scoped>\n",
       "    .dataframe tbody tr th:only-of-type {\n",
       "        vertical-align: middle;\n",
       "    }\n",
       "\n",
       "    .dataframe tbody tr th {\n",
       "        vertical-align: top;\n",
       "    }\n",
       "\n",
       "    .dataframe thead th {\n",
       "        text-align: right;\n",
       "    }\n",
       "</style>\n",
       "<table border=\"1\" class=\"dataframe\">\n",
       "  <thead>\n",
       "    <tr style=\"text-align: right;\">\n",
       "      <th></th>\n",
       "      <th>company</th>\n",
       "      <th>Unnamed: 0.1</th>\n",
       "      <th>Unnamed: 0</th>\n",
       "      <th>totalyearlycompensation</th>\n",
       "      <th>yearsofexperience</th>\n",
       "      <th>yearsatcompany</th>\n",
       "      <th>basesalary</th>\n",
       "      <th>stockgrantvalue</th>\n",
       "      <th>bonus</th>\n",
       "    </tr>\n",
       "  </thead>\n",
       "  <tbody>\n",
       "    <tr>\n",
       "      <th>0</th>\n",
       "      <td>Netflix</td>\n",
       "      <td>29538.805970</td>\n",
       "      <td>29538.805970</td>\n",
       "      <td>481376.865672</td>\n",
       "      <td>9.772388</td>\n",
       "      <td>2.583209</td>\n",
       "      <td>632453.267654</td>\n",
       "      <td>11045.708955</td>\n",
       "      <td>1291.044776</td>\n",
       "    </tr>\n",
       "    <tr>\n",
       "      <th>1</th>\n",
       "      <td>Box</td>\n",
       "      <td>28632.936364</td>\n",
       "      <td>28632.936364</td>\n",
       "      <td>302809.090909</td>\n",
       "      <td>9.345455</td>\n",
       "      <td>2.218182</td>\n",
       "      <td>280454.306055</td>\n",
       "      <td>88784.090909</td>\n",
       "      <td>7027.272727</td>\n",
       "    </tr>\n",
       "    <tr>\n",
       "      <th>2</th>\n",
       "      <td>Cruise</td>\n",
       "      <td>29359.500000</td>\n",
       "      <td>29359.500000</td>\n",
       "      <td>343219.827586</td>\n",
       "      <td>6.327586</td>\n",
       "      <td>1.146552</td>\n",
       "      <td>270889.818386</td>\n",
       "      <td>91344.827586</td>\n",
       "      <td>57025.862069</td>\n",
       "    </tr>\n",
       "    <tr>\n",
       "      <th>3</th>\n",
       "      <td>DoorDash</td>\n",
       "      <td>36870.094488</td>\n",
       "      <td>36870.094488</td>\n",
       "      <td>314692.913386</td>\n",
       "      <td>5.921260</td>\n",
       "      <td>0.568504</td>\n",
       "      <td>258741.375852</td>\n",
       "      <td>122692.913386</td>\n",
       "      <td>7314.960630</td>\n",
       "    </tr>\n",
       "    <tr>\n",
       "      <th>4</th>\n",
       "      <td>Airbnb</td>\n",
       "      <td>22162.964758</td>\n",
       "      <td>22162.964758</td>\n",
       "      <td>361832.599119</td>\n",
       "      <td>6.435242</td>\n",
       "      <td>1.470485</td>\n",
       "      <td>255237.936263</td>\n",
       "      <td>151863.436123</td>\n",
       "      <td>28986.233480</td>\n",
       "    </tr>\n",
       "    <tr>\n",
       "      <th>...</th>\n",
       "      <td>...</td>\n",
       "      <td>...</td>\n",
       "      <td>...</td>\n",
       "      <td>...</td>\n",
       "      <td>...</td>\n",
       "      <td>...</td>\n",
       "      <td>...</td>\n",
       "      <td>...</td>\n",
       "      <td>...</td>\n",
       "    </tr>\n",
       "    <tr>\n",
       "      <th>74</th>\n",
       "      <td>Northrop Grumman</td>\n",
       "      <td>35074.504673</td>\n",
       "      <td>35074.504673</td>\n",
       "      <td>108383.177570</td>\n",
       "      <td>4.878505</td>\n",
       "      <td>3.205607</td>\n",
       "      <td>149761.770714</td>\n",
       "      <td>495.327103</td>\n",
       "      <td>2074.766355</td>\n",
       "    </tr>\n",
       "    <tr>\n",
       "      <th>75</th>\n",
       "      <td>EPAM</td>\n",
       "      <td>33467.881818</td>\n",
       "      <td>33467.881818</td>\n",
       "      <td>112518.181818</td>\n",
       "      <td>9.800000</td>\n",
       "      <td>4.195455</td>\n",
       "      <td>147001.990298</td>\n",
       "      <td>2181.818182</td>\n",
       "      <td>6672.727273</td>\n",
       "    </tr>\n",
       "    <tr>\n",
       "      <th>76</th>\n",
       "      <td>Shopify</td>\n",
       "      <td>41943.090129</td>\n",
       "      <td>41943.090129</td>\n",
       "      <td>147931.330472</td>\n",
       "      <td>6.053648</td>\n",
       "      <td>1.547210</td>\n",
       "      <td>146237.379684</td>\n",
       "      <td>41845.493562</td>\n",
       "      <td>2201.716738</td>\n",
       "    </tr>\n",
       "    <tr>\n",
       "      <th>77</th>\n",
       "      <td>General Motors</td>\n",
       "      <td>35564.902985</td>\n",
       "      <td>35564.902985</td>\n",
       "      <td>102238.805970</td>\n",
       "      <td>4.723881</td>\n",
       "      <td>2.242537</td>\n",
       "      <td>129784.996018</td>\n",
       "      <td>350.746269</td>\n",
       "      <td>10436.567164</td>\n",
       "    </tr>\n",
       "    <tr>\n",
       "      <th>78</th>\n",
       "      <td>Yandex</td>\n",
       "      <td>28928.277108</td>\n",
       "      <td>28928.277108</td>\n",
       "      <td>64027.710843</td>\n",
       "      <td>6.849398</td>\n",
       "      <td>2.948795</td>\n",
       "      <td>53208.909234</td>\n",
       "      <td>20731.927711</td>\n",
       "      <td>7742.168675</td>\n",
       "    </tr>\n",
       "  </tbody>\n",
       "</table>\n",
       "<p>79 rows × 9 columns</p>\n",
       "</div>"
      ],
      "text/plain": [
       "             company  Unnamed: 0.1    Unnamed: 0  totalyearlycompensation  \\\n",
       "0            Netflix  29538.805970  29538.805970            481376.865672   \n",
       "1                Box  28632.936364  28632.936364            302809.090909   \n",
       "2             Cruise  29359.500000  29359.500000            343219.827586   \n",
       "3           DoorDash  36870.094488  36870.094488            314692.913386   \n",
       "4             Airbnb  22162.964758  22162.964758            361832.599119   \n",
       "..               ...           ...           ...                      ...   \n",
       "74  Northrop Grumman  35074.504673  35074.504673            108383.177570   \n",
       "75              EPAM  33467.881818  33467.881818            112518.181818   \n",
       "76           Shopify  41943.090129  41943.090129            147931.330472   \n",
       "77    General Motors  35564.902985  35564.902985            102238.805970   \n",
       "78            Yandex  28928.277108  28928.277108             64027.710843   \n",
       "\n",
       "    yearsofexperience  yearsatcompany     basesalary  stockgrantvalue  \\\n",
       "0            9.772388        2.583209  632453.267654     11045.708955   \n",
       "1            9.345455        2.218182  280454.306055     88784.090909   \n",
       "2            6.327586        1.146552  270889.818386     91344.827586   \n",
       "3            5.921260        0.568504  258741.375852    122692.913386   \n",
       "4            6.435242        1.470485  255237.936263    151863.436123   \n",
       "..                ...             ...            ...              ...   \n",
       "74           4.878505        3.205607  149761.770714       495.327103   \n",
       "75           9.800000        4.195455  147001.990298      2181.818182   \n",
       "76           6.053648        1.547210  146237.379684     41845.493562   \n",
       "77           4.723881        2.242537  129784.996018       350.746269   \n",
       "78           6.849398        2.948795   53208.909234     20731.927711   \n",
       "\n",
       "           bonus  \n",
       "0    1291.044776  \n",
       "1    7027.272727  \n",
       "2   57025.862069  \n",
       "3    7314.960630  \n",
       "4   28986.233480  \n",
       "..           ...  \n",
       "74   2074.766355  \n",
       "75   6672.727273  \n",
       "76   2201.716738  \n",
       "77  10436.567164  \n",
       "78   7742.168675  \n",
       "\n",
       "[79 rows x 9 columns]"
      ]
     },
     "execution_count": 5,
     "metadata": {},
     "output_type": "execute_result"
    }
   ],
   "source": [
    "#Checking highest paying average basesalary based on company and saving into new variable\n",
    "\n",
    "df_best_paying_company = df_data_science_salaries_plot.groupby(['company']).mean().sort_values(by = 'basesalary', ascending = False)\n",
    "\n",
    "df_best_paying_company.reset_index(inplace=True)\n",
    "\n",
    "df_best_paying_company"
   ]
  },
  {
   "cell_type": "code",
   "execution_count": 6,
   "metadata": {},
   "outputs": [
    {
     "data": {
      "text/plain": [
       "'2017-06-07 to 2021-08-17'"
      ]
     },
     "execution_count": 6,
     "metadata": {},
     "output_type": "execute_result"
    }
   ],
   "source": [
    "date_range = str(df_data_science_salaries_plot['Time'].dt.date.min()) + ' to ' + str(df_data_science_salaries_plot['Time'].dt.date.max())\n",
    "\n",
    "date_range"
   ]
  },
  {
   "cell_type": "code",
   "execution_count": 7,
   "metadata": {},
   "outputs": [
    {
     "data": {
      "text/plain": [
       "array(['USA', 'United Kingdom', 'Ireland', 'India', 'Russia', 'Canada',\n",
       "       'Netherlands', 'Switzerland', 'Singapore', 'Germany', 'Australia',\n",
       "       'Israel'], dtype=object)"
      ]
     },
     "execution_count": 7,
     "metadata": {},
     "output_type": "execute_result"
    }
   ],
   "source": [
    "df_data_science_salaries_plot['Country'].unique()"
   ]
  },
  {
   "cell_type": "code",
   "execution_count": 11,
   "metadata": {},
   "outputs": [],
   "source": [
    "def show_values(axs, orient=\"v\", space=.01):\n",
    "    def _single(ax):\n",
    "        if orient == \"v\":\n",
    "            for p in ax.patches:\n",
    "                _x = p.get_x() + p.get_width() / 2\n",
    "                _y = p.get_y() + p.get_height() + (p.get_height()*0.01)\n",
    "                value = '{:.1f}'.format(p.get_height())\n",
    "                ax.text(_x, _y, value, ha=\"center\") \n",
    "        elif orient == \"h\":\n",
    "            for p in ax.patches:\n",
    "                _x = p.get_x() + p.get_width() + float(space)\n",
    "                _y = p.get_y() + p.get_height() - (p.get_height()*0.5)\n",
    "                value = '{:.1f}'.format(p.get_width())\n",
    "                ax.text(_x, _y, value, ha=\"left\")\n",
    "\n",
    "    if isinstance(axs, np.ndarray):\n",
    "        for idx, ax in np.ndenumerate(axs):\n",
    "            _single(ax)\n",
    "    else:\n",
    "        _single(axs)"
   ]
  },
  {
   "cell_type": "code",
   "execution_count": 13,
   "metadata": {},
   "outputs": [
    {
     "name": "stderr",
     "output_type": "stream",
     "text": [
      "C:\\Users\\dani3\\AppData\\Local\\Temp\\ipykernel_6680\\1081885231.py:4: FutureWarning:\n",
      "\n",
      "\n",
      "\n",
      "The `ci` parameter is deprecated. Use `errorbar=None` for the same effect.\n",
      "\n",
      "\n"
     ]
    },
    {
     "data": {
      "image/png": "[encoded data removed]",
      "text/plain": [
       "<Figure size 1440x360 with 1 Axes>"
      ]
     },
     "metadata": {},
     "output_type": "display_data"
    }
   ],
   "source": [
    "# Using Seaborn\n",
    "sns.set(rc={'figure.figsize': (20, 5)})\n",
    "\n",
    "best_paying_company = sns.barplot(x = 'basesalary', y = 'company', data = df_best_paying_company, \n",
    "                                ci = None, palette = 'rainbow', \n",
    "                                order = df_best_paying_company.sort_values('basesalary', ascending = False).company[:5])\n",
    "\n",
    "best_paying_company.set(xlabel = 'Basesalary in SGD', ylabel = 'Company Names', title = 'Best Paying Company is Netflix from Jun 2017 to Aug 2021')\n",
    "\n",
    "show_values(best_paying_company, 'h', space=0.05)\n",
    "\n",
    "plt.show()"
   ]
  },
  {
   "cell_type": "markdown",
   "metadata": {},
   "source": [
    "# Deeper dive into Netflix"
   ]
  },
  {
   "cell_type": "code",
   "execution_count": 15,
   "metadata": {},
   "outputs": [
    {
     "data": {
      "text/plain": [
       "count    2.680000e+02\n",
       "mean     6.324533e+05\n",
       "std      2.102881e+05\n",
       "min      1.680000e+05\n",
       "25%      5.390000e+05\n",
       "50%      6.300000e+05\n",
       "75%      7.700000e+05\n",
       "max      1.250200e+06\n",
       "Name: basesalary, dtype: float64"
      ]
     },
     "execution_count": 15,
     "metadata": {},
     "output_type": "execute_result"
    }
   ],
   "source": [
    "df_Netflix = df_data_science_salaries_plot[df_data_science_salaries_plot['company'] == 'Netflix']\n",
    "\n",
    "df_Netflix['basesalary'].describe()"
   ]
  },
  {
   "cell_type": "code",
   "execution_count": 16,
   "metadata": {},
   "outputs": [
    {
     "data": {
      "text/html": [
       "<div>\n",
       "<style scoped>\n",
       "    .dataframe tbody tr th:only-of-type {\n",
       "        vertical-align: middle;\n",
       "    }\n",
       "\n",
       "    .dataframe tbody tr th {\n",
       "        vertical-align: top;\n",
       "    }\n",
       "\n",
       "    .dataframe thead th {\n",
       "        text-align: right;\n",
       "    }\n",
       "</style>\n",
       "<table border=\"1\" class=\"dataframe\">\n",
       "  <thead>\n",
       "    <tr style=\"text-align: right;\">\n",
       "      <th></th>\n",
       "      <th>Unnamed: 0.1</th>\n",
       "      <th>Unnamed: 0</th>\n",
       "      <th>timestamp</th>\n",
       "      <th>company</th>\n",
       "      <th>level</th>\n",
       "      <th>title</th>\n",
       "      <th>totalyearlycompensation</th>\n",
       "      <th>yearsofexperience</th>\n",
       "      <th>yearsatcompany</th>\n",
       "      <th>tag</th>\n",
       "      <th>basesalary</th>\n",
       "      <th>stockgrantvalue</th>\n",
       "      <th>bonus</th>\n",
       "      <th>State</th>\n",
       "      <th>Country</th>\n",
       "      <th>Time</th>\n",
       "    </tr>\n",
       "  </thead>\n",
       "  <tbody>\n",
       "    <tr>\n",
       "      <th>41222</th>\n",
       "      <td>56175</td>\n",
       "      <td>56175</td>\n",
       "      <td>6/30/2021 15:26:10</td>\n",
       "      <td>Netflix</td>\n",
       "      <td>Senior Software Engineer</td>\n",
       "      <td>Software Engineer</td>\n",
       "      <td>893000</td>\n",
       "      <td>19.0</td>\n",
       "      <td>8.0</td>\n",
       "      <td>Platform</td>\n",
       "      <td>1250200.0</td>\n",
       "      <td>0.0</td>\n",
       "      <td>0.0</td>\n",
       "      <td>CA</td>\n",
       "      <td>USA</td>\n",
       "      <td>2021-06-30 15:26:10</td>\n",
       "    </tr>\n",
       "  </tbody>\n",
       "</table>\n",
       "</div>"
      ],
      "text/plain": [
       "       Unnamed: 0.1  Unnamed: 0           timestamp  company  \\\n",
       "41222         56175       56175  6/30/2021 15:26:10  Netflix   \n",
       "\n",
       "                          level              title  totalyearlycompensation  \\\n",
       "41222  Senior Software Engineer  Software Engineer                   893000   \n",
       "\n",
       "       yearsofexperience  yearsatcompany       tag  basesalary  \\\n",
       "41222               19.0             8.0  Platform   1250200.0   \n",
       "\n",
       "       stockgrantvalue  bonus State Country                Time  \n",
       "41222              0.0    0.0    CA     USA 2021-06-30 15:26:10  "
      ]
     },
     "execution_count": 16,
     "metadata": {},
     "output_type": "execute_result"
    }
   ],
   "source": [
    "df_Netflix.loc[df_Netflix['basesalary'] > 1250000]"
   ]
  },
  {
   "cell_type": "code",
   "execution_count": 17,
   "metadata": {},
   "outputs": [
    {
     "data": {
      "text/plain": [
       "Text(0.5, 1.0, 'Fig 1')"
      ]
     },
     "execution_count": 17,
     "metadata": {},
     "output_type": "execute_result"
    },
    {
     "data": {
      "image/png": "[encoded data removed]",
      "text/plain": [
       "<Figure size 864x360 with 1 Axes>"
      ]
     },
     "metadata": {},
     "output_type": "display_data"
    }
   ],
   "source": [
    "sns.set(rc={'figure.figsize':(12, 5)})\n",
    "\n",
    "sns.violinplot(y=\"company\", x=\"basesalary\", data=df_Netflix, palette='rainbow')\n",
    "\n",
    "sns.stripplot(y=\"company\", x=\"basesalary\", data=df_Netflix, color='black', size=3).set(ylabel = None, xlabel = 'Base Salary')\n",
    "\n",
    "plt.ticklabel_format(style='plain', axis = 'x')\n",
    "plt.title('Fig 1', fontsize = 15)"
   ]
  },
  {
   "cell_type": "code",
   "execution_count": 51,
   "metadata": {},
   "outputs": [
    {
     "data": {
      "image/png": "[encoded data removed]",
      "text/plain": [
       "<Figure size 1080x360 with 1 Axes>"
      ]
     },
     "metadata": {},
     "output_type": "display_data"
    }
   ],
   "source": [
    "sns.set(rc={'figure.figsize':(15, 5)})\n",
    "\n",
    "# groupedvalues = df_Netflix.groupby('basesalary').mean().reset_index()\n",
    "\n",
    "ax = sns.barplot(x='title',\n",
    "                y='basesalary',\n",
    "                data=df_Netflix, \n",
    "                estimator=np.mean).set(title='Spread of Average Salary across different Job positions in Netflix', \n",
    "                xlabel = 'Job title', \n",
    "                ylabel = 'Base Salary')\n",
    "plt.xticks(rotation = 30)\n",
    "plt.tight_layout()"
   ]
  },
  {
   "cell_type": "markdown",
   "metadata": {},
   "source": [
    "# Best Paying Job Title"
   ]
  },
  {
   "cell_type": "code",
   "execution_count": 37,
   "metadata": {},
   "outputs": [
    {
     "name": "stdout",
     "output_type": "stream",
     "text": [
      "Number of entries with no job title: 0\n"
     ]
    }
   ],
   "source": [
    "# Checking number of values counts that have no job title\n",
    "\n",
    "print(f\"Number of entries with no job title: {df_data_science_salaries_plot['title'].isna().sum()}\")"
   ]
  },
  {
   "cell_type": "code",
   "execution_count": 38,
   "metadata": {},
   "outputs": [
    {
     "data": {
      "text/html": [
       "<div>\n",
       "<style scoped>\n",
       "    .dataframe tbody tr th:only-of-type {\n",
       "        vertical-align: middle;\n",
       "    }\n",
       "\n",
       "    .dataframe tbody tr th {\n",
       "        vertical-align: top;\n",
       "    }\n",
       "\n",
       "    .dataframe thead th {\n",
       "        text-align: right;\n",
       "    }\n",
       "</style>\n",
       "<table border=\"1\" class=\"dataframe\">\n",
       "  <thead>\n",
       "    <tr style=\"text-align: right;\">\n",
       "      <th></th>\n",
       "      <th>title</th>\n",
       "      <th>Unnamed: 0.1</th>\n",
       "      <th>Unnamed: 0</th>\n",
       "      <th>totalyearlycompensation</th>\n",
       "      <th>yearsofexperience</th>\n",
       "      <th>yearsatcompany</th>\n",
       "      <th>basesalary</th>\n",
       "      <th>stockgrantvalue</th>\n",
       "      <th>bonus</th>\n",
       "    </tr>\n",
       "  </thead>\n",
       "  <tbody>\n",
       "    <tr>\n",
       "      <th>0</th>\n",
       "      <td>Software Engineering Manager</td>\n",
       "      <td>27921.907224</td>\n",
       "      <td>27921.907224</td>\n",
       "      <td>388356.802347</td>\n",
       "      <td>14.309131</td>\n",
       "      <td>5.150330</td>\n",
       "      <td>265864.794491</td>\n",
       "      <td>135650.908324</td>\n",
       "      <td>37418.292263</td>\n",
       "    </tr>\n",
       "    <tr>\n",
       "      <th>1</th>\n",
       "      <td>Product Manager</td>\n",
       "      <td>29498.871978</td>\n",
       "      <td>29498.871978</td>\n",
       "      <td>276532.967033</td>\n",
       "      <td>9.515247</td>\n",
       "      <td>3.285632</td>\n",
       "      <td>225608.746036</td>\n",
       "      <td>78448.905220</td>\n",
       "      <td>25762.994505</td>\n",
       "    </tr>\n",
       "    <tr>\n",
       "      <th>2</th>\n",
       "      <td>Technical Program Manager</td>\n",
       "      <td>38784.987773</td>\n",
       "      <td>38784.987773</td>\n",
       "      <td>248377.292576</td>\n",
       "      <td>12.384279</td>\n",
       "      <td>3.816856</td>\n",
       "      <td>224495.292110</td>\n",
       "      <td>61913.777293</td>\n",
       "      <td>24967.685590</td>\n",
       "    </tr>\n",
       "    <tr>\n",
       "      <th>3</th>\n",
       "      <td>Data Scientist</td>\n",
       "      <td>30321.608475</td>\n",
       "      <td>30321.608475</td>\n",
       "      <td>226219.209040</td>\n",
       "      <td>5.204520</td>\n",
       "      <td>2.048220</td>\n",
       "      <td>213311.666812</td>\n",
       "      <td>52236.723164</td>\n",
       "      <td>19324.858757</td>\n",
       "    </tr>\n",
       "    <tr>\n",
       "      <th>4</th>\n",
       "      <td>Solution Architect</td>\n",
       "      <td>30582.418549</td>\n",
       "      <td>30582.418549</td>\n",
       "      <td>228265.160523</td>\n",
       "      <td>12.746730</td>\n",
       "      <td>3.766468</td>\n",
       "      <td>213257.933960</td>\n",
       "      <td>44538.644471</td>\n",
       "      <td>27938.168847</td>\n",
       "    </tr>\n",
       "    <tr>\n",
       "      <th>5</th>\n",
       "      <td>Hardware Engineer</td>\n",
       "      <td>31948.692584</td>\n",
       "      <td>31948.692584</td>\n",
       "      <td>232219.497608</td>\n",
       "      <td>8.421053</td>\n",
       "      <td>4.054605</td>\n",
       "      <td>211042.550276</td>\n",
       "      <td>56853.169856</td>\n",
       "      <td>22516.746411</td>\n",
       "    </tr>\n",
       "    <tr>\n",
       "      <th>6</th>\n",
       "      <td>Product Designer</td>\n",
       "      <td>30354.611210</td>\n",
       "      <td>30354.611210</td>\n",
       "      <td>226720.640569</td>\n",
       "      <td>7.714413</td>\n",
       "      <td>2.344440</td>\n",
       "      <td>208346.804503</td>\n",
       "      <td>55357.206406</td>\n",
       "      <td>19867.615658</td>\n",
       "    </tr>\n",
       "    <tr>\n",
       "      <th>7</th>\n",
       "      <td>Marketing</td>\n",
       "      <td>39911.581028</td>\n",
       "      <td>39911.581028</td>\n",
       "      <td>214033.596838</td>\n",
       "      <td>9.584980</td>\n",
       "      <td>3.475296</td>\n",
       "      <td>207316.421870</td>\n",
       "      <td>41122.727273</td>\n",
       "      <td>22618.577075</td>\n",
       "    </tr>\n",
       "    <tr>\n",
       "      <th>8</th>\n",
       "      <td>Software Engineer</td>\n",
       "      <td>28175.555048</td>\n",
       "      <td>28175.555048</td>\n",
       "      <td>223955.657230</td>\n",
       "      <td>6.136585</td>\n",
       "      <td>2.361482</td>\n",
       "      <td>201732.975477</td>\n",
       "      <td>58275.790470</td>\n",
       "      <td>18895.415483</td>\n",
       "    </tr>\n",
       "    <tr>\n",
       "      <th>9</th>\n",
       "      <td>Management Consultant</td>\n",
       "      <td>39845.645215</td>\n",
       "      <td>39845.645215</td>\n",
       "      <td>160780.528053</td>\n",
       "      <td>7.727723</td>\n",
       "      <td>3.404703</td>\n",
       "      <td>191970.957096</td>\n",
       "      <td>7490.099010</td>\n",
       "      <td>16278.877888</td>\n",
       "    </tr>\n",
       "    <tr>\n",
       "      <th>10</th>\n",
       "      <td>Mechanical Engineer</td>\n",
       "      <td>38486.058140</td>\n",
       "      <td>38486.058140</td>\n",
       "      <td>196503.875969</td>\n",
       "      <td>6.434109</td>\n",
       "      <td>3.027132</td>\n",
       "      <td>189482.945736</td>\n",
       "      <td>45872.093023</td>\n",
       "      <td>15414.728682</td>\n",
       "    </tr>\n",
       "    <tr>\n",
       "      <th>11</th>\n",
       "      <td>Human Resources</td>\n",
       "      <td>38222.164062</td>\n",
       "      <td>38222.164062</td>\n",
       "      <td>191390.625000</td>\n",
       "      <td>10.187500</td>\n",
       "      <td>3.593750</td>\n",
       "      <td>188122.479427</td>\n",
       "      <td>38164.062500</td>\n",
       "      <td>18867.187500</td>\n",
       "    </tr>\n",
       "    <tr>\n",
       "      <th>12</th>\n",
       "      <td>Sales</td>\n",
       "      <td>35826.832827</td>\n",
       "      <td>35826.832827</td>\n",
       "      <td>227805.471125</td>\n",
       "      <td>9.112462</td>\n",
       "      <td>3.665653</td>\n",
       "      <td>175296.243768</td>\n",
       "      <td>33328.267477</td>\n",
       "      <td>67659.574468</td>\n",
       "    </tr>\n",
       "    <tr>\n",
       "      <th>13</th>\n",
       "      <td>Recruiter</td>\n",
       "      <td>37802.138554</td>\n",
       "      <td>37802.138554</td>\n",
       "      <td>159834.337349</td>\n",
       "      <td>7.867470</td>\n",
       "      <td>2.382530</td>\n",
       "      <td>167188.747589</td>\n",
       "      <td>26909.638554</td>\n",
       "      <td>13463.855422</td>\n",
       "    </tr>\n",
       "    <tr>\n",
       "      <th>14</th>\n",
       "      <td>Business Analyst</td>\n",
       "      <td>39825.371528</td>\n",
       "      <td>39825.371528</td>\n",
       "      <td>139559.027778</td>\n",
       "      <td>5.465278</td>\n",
       "      <td>2.328646</td>\n",
       "      <td>151377.620601</td>\n",
       "      <td>17550.347222</td>\n",
       "      <td>13989.583333</td>\n",
       "    </tr>\n",
       "  </tbody>\n",
       "</table>\n",
       "</div>"
      ],
      "text/plain": [
       "                           title  Unnamed: 0.1    Unnamed: 0  \\\n",
       "0   Software Engineering Manager  27921.907224  27921.907224   \n",
       "1                Product Manager  29498.871978  29498.871978   \n",
       "2      Technical Program Manager  38784.987773  38784.987773   \n",
       "3                 Data Scientist  30321.608475  30321.608475   \n",
       "4             Solution Architect  30582.418549  30582.418549   \n",
       "5              Hardware Engineer  31948.692584  31948.692584   \n",
       "6               Product Designer  30354.611210  30354.611210   \n",
       "7                      Marketing  39911.581028  39911.581028   \n",
       "8              Software Engineer  28175.555048  28175.555048   \n",
       "9          Management Consultant  39845.645215  39845.645215   \n",
       "10           Mechanical Engineer  38486.058140  38486.058140   \n",
       "11               Human Resources  38222.164062  38222.164062   \n",
       "12                         Sales  35826.832827  35826.832827   \n",
       "13                     Recruiter  37802.138554  37802.138554   \n",
       "14              Business Analyst  39825.371528  39825.371528   \n",
       "\n",
       "    totalyearlycompensation  yearsofexperience  yearsatcompany     basesalary  \\\n",
       "0             388356.802347          14.309131        5.150330  265864.794491   \n",
       "1             276532.967033           9.515247        3.285632  225608.746036   \n",
       "2             248377.292576          12.384279        3.816856  224495.292110   \n",
       "3             226219.209040           5.204520        2.048220  213311.666812   \n",
       "4             228265.160523          12.746730        3.766468  213257.933960   \n",
       "5             232219.497608           8.421053        4.054605  211042.550276   \n",
       "6             226720.640569           7.714413        2.344440  208346.804503   \n",
       "7             214033.596838           9.584980        3.475296  207316.421870   \n",
       "8             223955.657230           6.136585        2.361482  201732.975477   \n",
       "9             160780.528053           7.727723        3.404703  191970.957096   \n",
       "10            196503.875969           6.434109        3.027132  189482.945736   \n",
       "11            191390.625000          10.187500        3.593750  188122.479427   \n",
       "12            227805.471125           9.112462        3.665653  175296.243768   \n",
       "13            159834.337349           7.867470        2.382530  167188.747589   \n",
       "14            139559.027778           5.465278        2.328646  151377.620601   \n",
       "\n",
       "    stockgrantvalue         bonus  \n",
       "0     135650.908324  37418.292263  \n",
       "1      78448.905220  25762.994505  \n",
       "2      61913.777293  24967.685590  \n",
       "3      52236.723164  19324.858757  \n",
       "4      44538.644471  27938.168847  \n",
       "5      56853.169856  22516.746411  \n",
       "6      55357.206406  19867.615658  \n",
       "7      41122.727273  22618.577075  \n",
       "8      58275.790470  18895.415483  \n",
       "9       7490.099010  16278.877888  \n",
       "10     45872.093023  15414.728682  \n",
       "11     38164.062500  18867.187500  \n",
       "12     33328.267477  67659.574468  \n",
       "13     26909.638554  13463.855422  \n",
       "14     17550.347222  13989.583333  "
      ]
     },
     "execution_count": 38,
     "metadata": {},
     "output_type": "execute_result"
    }
   ],
   "source": [
    "# Checking highest paying average basesalary based on title\n",
    "\n",
    "df_best_paying_title = df_data_science_salaries_plot.groupby(['title']).mean().sort_values(by = 'basesalary', ascending = False)\n",
    "\n",
    "df_best_paying_title.reset_index(inplace = True)\n",
    "\n",
    "df_best_paying_title"
   ]
  },
  {
   "cell_type": "code",
   "execution_count": 41,
   "metadata": {},
   "outputs": [
    {
     "name": "stderr",
     "output_type": "stream",
     "text": [
      "C:\\Users\\dani3\\AppData\\Local\\Temp\\ipykernel_6680\\3067842566.py:4: FutureWarning:\n",
      "\n",
      "\n",
      "\n",
      "The `ci` parameter is deprecated. Use `errorbar=None` for the same effect.\n",
      "\n",
      "\n"
     ]
    },
    {
     "data": {
      "image/png": "[encoded data removed]",
      "text/plain": [
       "<Figure size 1440x720 with 1 Axes>"
      ]
     },
     "metadata": {},
     "output_type": "display_data"
    }
   ],
   "source": [
    "# Using Seaborn\n",
    "sns.set(rc={'figure.figsize': (20, 10)})\n",
    "\n",
    "best_paying_title = sns.barplot(x = 'basesalary', y = 'title', data = df_best_paying_title, \n",
    "                                ci = None, palette= 'rainbow', estimator=np.mean,\n",
    "                                order = df_best_paying_title.sort_values('basesalary', ascending = False).title)\n",
    "\n",
    "\n",
    "show_values(best_paying_title, 'h', space=0.05)\n",
    "\n",
    "best_paying_title.set(xlabel = 'Basesalary in SGD', ylabel = 'Job titles', title = 'Best Paying Job title is Software Enginnering Manager from Jun 2017 to Aug 2021')\n",
    "\n",
    "plt.show()"
   ]
  },
  {
   "cell_type": "markdown",
   "metadata": {},
   "source": [
    "# Deeper dive into Software Engineering Manager"
   ]
  },
  {
   "cell_type": "code",
   "execution_count": 43,
   "metadata": {},
   "outputs": [
    {
     "data": {
      "text/plain": [
       "count    2.727000e+03\n",
       "mean     2.658648e+05\n",
       "std      9.223404e+04\n",
       "min      1.400000e+04\n",
       "25%      2.170000e+05\n",
       "50%      2.520000e+05\n",
       "75%      3.080000e+05\n",
       "max      1.190000e+06\n",
       "Name: basesalary, dtype: float64"
      ]
     },
     "execution_count": 43,
     "metadata": {},
     "output_type": "execute_result"
    }
   ],
   "source": [
    "df_Software_Eng_Mgr = df_data_science_salaries_plot[df_data_science_salaries_plot['title'] == 'Software Engineering Manager']\n",
    "\n",
    "df_Software_Eng_Mgr['basesalary'].describe()"
   ]
  },
  {
   "cell_type": "code",
   "execution_count": 16,
   "metadata": {},
   "outputs": [
    {
     "data": {
      "text/html": [
       "<div>\n",
       "<style scoped>\n",
       "    .dataframe tbody tr th:only-of-type {\n",
       "        vertical-align: middle;\n",
       "    }\n",
       "\n",
       "    .dataframe tbody tr th {\n",
       "        vertical-align: top;\n",
       "    }\n",
       "\n",
       "    .dataframe thead th {\n",
       "        text-align: right;\n",
       "    }\n",
       "</style>\n",
       "<table border=\"1\" class=\"dataframe\">\n",
       "  <thead>\n",
       "    <tr style=\"text-align: right;\">\n",
       "      <th></th>\n",
       "      <th>Unnamed: 0.1</th>\n",
       "      <th>Unnamed: 0</th>\n",
       "      <th>timestamp</th>\n",
       "      <th>company</th>\n",
       "      <th>level</th>\n",
       "      <th>title</th>\n",
       "      <th>totalyearlycompensation</th>\n",
       "      <th>yearsofexperience</th>\n",
       "      <th>yearsatcompany</th>\n",
       "      <th>tag</th>\n",
       "      <th>basesalary</th>\n",
       "      <th>stockgrantvalue</th>\n",
       "      <th>bonus</th>\n",
       "      <th>State</th>\n",
       "      <th>Country</th>\n",
       "      <th>Time</th>\n",
       "    </tr>\n",
       "  </thead>\n",
       "  <tbody>\n",
       "    <tr>\n",
       "      <th>44750</th>\n",
       "      <td>61967</td>\n",
       "      <td>61967</td>\n",
       "      <td>8/20/2019 15:35:10</td>\n",
       "      <td>Microsoft</td>\n",
       "      <td>80</td>\n",
       "      <td>Software Engineering Manager</td>\n",
       "      <td>4950000</td>\n",
       "      <td>24.0</td>\n",
       "      <td>8.0</td>\n",
       "      <td>ML / AI</td>\n",
       "      <td>1190000.0</td>\n",
       "      <td>3750.0</td>\n",
       "      <td>350000.0</td>\n",
       "      <td>WA</td>\n",
       "      <td>USA</td>\n",
       "      <td>2019-08-20 15:35:10</td>\n",
       "    </tr>\n",
       "  </tbody>\n",
       "</table>\n",
       "</div>"
      ],
      "text/plain": [
       "       Unnamed: 0.1  Unnamed: 0           timestamp    company level  \\\n",
       "44750         61967       61967  8/20/2019 15:35:10  Microsoft    80   \n",
       "\n",
       "                              title  totalyearlycompensation  \\\n",
       "44750  Software Engineering Manager                  4950000   \n",
       "\n",
       "       yearsofexperience  yearsatcompany      tag  basesalary  \\\n",
       "44750               24.0             8.0  ML / AI   1190000.0   \n",
       "\n",
       "       stockgrantvalue     bonus State Country                Time  \n",
       "44750           3750.0  350000.0    WA     USA 2019-08-20 15:35:10  "
      ]
     },
     "execution_count": 16,
     "metadata": {},
     "output_type": "execute_result"
    }
   ],
   "source": [
    "df_Software_Eng_Mgr.loc[df_Software_Eng_Mgr['basesalary'] > 1180000]"
   ]
  },
  {
   "cell_type": "code",
   "execution_count": 48,
   "metadata": {},
   "outputs": [
    {
     "data": {
      "text/html": [
       "<div>\n",
       "<style scoped>\n",
       "    .dataframe tbody tr th:only-of-type {\n",
       "        vertical-align: middle;\n",
       "    }\n",
       "\n",
       "    .dataframe tbody tr th {\n",
       "        vertical-align: top;\n",
       "    }\n",
       "\n",
       "    .dataframe thead th {\n",
       "        text-align: right;\n",
       "    }\n",
       "</style>\n",
       "<table border=\"1\" class=\"dataframe\">\n",
       "  <thead>\n",
       "    <tr style=\"text-align: right;\">\n",
       "      <th></th>\n",
       "      <th>Unnamed: 0.1</th>\n",
       "      <th>Unnamed: 0</th>\n",
       "      <th>timestamp</th>\n",
       "      <th>company</th>\n",
       "      <th>level</th>\n",
       "      <th>title</th>\n",
       "      <th>totalyearlycompensation</th>\n",
       "      <th>yearsofexperience</th>\n",
       "      <th>yearsatcompany</th>\n",
       "      <th>tag</th>\n",
       "      <th>basesalary</th>\n",
       "      <th>stockgrantvalue</th>\n",
       "      <th>bonus</th>\n",
       "      <th>State</th>\n",
       "      <th>Country</th>\n",
       "      <th>Time</th>\n",
       "    </tr>\n",
       "  </thead>\n",
       "  <tbody>\n",
       "    <tr>\n",
       "      <th>44750</th>\n",
       "      <td>61967</td>\n",
       "      <td>61967</td>\n",
       "      <td>8/20/2019 15:35:10</td>\n",
       "      <td>Microsoft</td>\n",
       "      <td>80</td>\n",
       "      <td>Software Engineering Manager</td>\n",
       "      <td>4950000</td>\n",
       "      <td>24.0</td>\n",
       "      <td>8.0</td>\n",
       "      <td>ML / AI</td>\n",
       "      <td>1190000.0</td>\n",
       "      <td>3750.0</td>\n",
       "      <td>350000.0</td>\n",
       "      <td>WA</td>\n",
       "      <td>USA</td>\n",
       "      <td>2019-08-20 15:35:10</td>\n",
       "    </tr>\n",
       "    <tr>\n",
       "      <th>28946</th>\n",
       "      <td>37462</td>\n",
       "      <td>37462</td>\n",
       "      <td>12/16/2020 15:31:46</td>\n",
       "      <td>Netflix</td>\n",
       "      <td>Manager</td>\n",
       "      <td>Software Engineering Manager</td>\n",
       "      <td>800000</td>\n",
       "      <td>8.0</td>\n",
       "      <td>3.0</td>\n",
       "      <td>API Development (Back-End)</td>\n",
       "      <td>1120000.0</td>\n",
       "      <td>0.0</td>\n",
       "      <td>0.0</td>\n",
       "      <td>CA</td>\n",
       "      <td>USA</td>\n",
       "      <td>2020-12-16 15:31:46</td>\n",
       "    </tr>\n",
       "    <tr>\n",
       "      <th>23533</th>\n",
       "      <td>29811</td>\n",
       "      <td>29811</td>\n",
       "      <td>9/13/2020 19:05:35</td>\n",
       "      <td>Netflix</td>\n",
       "      <td>Senior Software Engineer</td>\n",
       "      <td>Software Engineering Manager</td>\n",
       "      <td>700000</td>\n",
       "      <td>10.0</td>\n",
       "      <td>2.0</td>\n",
       "      <td>Full Stack</td>\n",
       "      <td>980000.0</td>\n",
       "      <td>0.0</td>\n",
       "      <td>0.0</td>\n",
       "      <td>CA</td>\n",
       "      <td>USA</td>\n",
       "      <td>2020-09-13 19:05:35</td>\n",
       "    </tr>\n",
       "    <tr>\n",
       "      <th>42080</th>\n",
       "      <td>57518</td>\n",
       "      <td>57518</td>\n",
       "      <td>7/13/2021 10:26:47</td>\n",
       "      <td>Netflix</td>\n",
       "      <td>Engineering Manager</td>\n",
       "      <td>Software Engineering Manager</td>\n",
       "      <td>700000</td>\n",
       "      <td>18.0</td>\n",
       "      <td>6.0</td>\n",
       "      <td>Distributed Systems (Back-End)</td>\n",
       "      <td>980000.0</td>\n",
       "      <td>0.0</td>\n",
       "      <td>0.0</td>\n",
       "      <td>CA</td>\n",
       "      <td>USA</td>\n",
       "      <td>2021-07-13 10:26:47</td>\n",
       "    </tr>\n",
       "    <tr>\n",
       "      <th>34306</th>\n",
       "      <td>45660</td>\n",
       "      <td>45660</td>\n",
       "      <td>3/21/2021 20:49:33</td>\n",
       "      <td>Netflix</td>\n",
       "      <td>Engineering Manager</td>\n",
       "      <td>Software Engineering Manager</td>\n",
       "      <td>682000</td>\n",
       "      <td>14.0</td>\n",
       "      <td>5.0</td>\n",
       "      <td>DevOps</td>\n",
       "      <td>910000.0</td>\n",
       "      <td>32000.0</td>\n",
       "      <td>0.0</td>\n",
       "      <td>CA</td>\n",
       "      <td>USA</td>\n",
       "      <td>2021-03-21 20:49:33</td>\n",
       "    </tr>\n",
       "  </tbody>\n",
       "</table>\n",
       "</div>"
      ],
      "text/plain": [
       "       Unnamed: 0.1  Unnamed: 0            timestamp    company  \\\n",
       "44750         61967       61967   8/20/2019 15:35:10  Microsoft   \n",
       "28946         37462       37462  12/16/2020 15:31:46    Netflix   \n",
       "23533         29811       29811   9/13/2020 19:05:35    Netflix   \n",
       "42080         57518       57518   7/13/2021 10:26:47    Netflix   \n",
       "34306         45660       45660   3/21/2021 20:49:33    Netflix   \n",
       "\n",
       "                          level                         title  \\\n",
       "44750                        80  Software Engineering Manager   \n",
       "28946                   Manager  Software Engineering Manager   \n",
       "23533  Senior Software Engineer  Software Engineering Manager   \n",
       "42080       Engineering Manager  Software Engineering Manager   \n",
       "34306       Engineering Manager  Software Engineering Manager   \n",
       "\n",
       "       totalyearlycompensation  yearsofexperience  yearsatcompany  \\\n",
       "44750                  4950000               24.0             8.0   \n",
       "28946                   800000                8.0             3.0   \n",
       "23533                   700000               10.0             2.0   \n",
       "42080                   700000               18.0             6.0   \n",
       "34306                   682000               14.0             5.0   \n",
       "\n",
       "                                  tag  basesalary  stockgrantvalue     bonus  \\\n",
       "44750                         ML / AI   1190000.0           3750.0  350000.0   \n",
       "28946      API Development (Back-End)   1120000.0              0.0       0.0   \n",
       "23533                      Full Stack    980000.0              0.0       0.0   \n",
       "42080  Distributed Systems (Back-End)    980000.0              0.0       0.0   \n",
       "34306                          DevOps    910000.0          32000.0       0.0   \n",
       "\n",
       "      State Country                Time  \n",
       "44750    WA     USA 2019-08-20 15:35:10  \n",
       "28946    CA     USA 2020-12-16 15:31:46  \n",
       "23533    CA     USA 2020-09-13 19:05:35  \n",
       "42080    CA     USA 2021-07-13 10:26:47  \n",
       "34306    CA     USA 2021-03-21 20:49:33  "
      ]
     },
     "execution_count": 48,
     "metadata": {},
     "output_type": "execute_result"
    }
   ],
   "source": [
    "df_Software_Eng_Mgr.sort_values(by = ['basesalary'], ascending=False).head()"
   ]
  },
  {
   "cell_type": "code",
   "execution_count": 39,
   "metadata": {},
   "outputs": [
    {
     "data": {
      "image/png": "[encoded data removed]",
      "text/plain": [
       "<Figure size 720x360 with 1 Axes>"
      ]
     },
     "metadata": {},
     "output_type": "display_data"
    }
   ],
   "source": [
    "sns.set(rc={'figure.figsize':(10, 5)})\n",
    "\n",
    "sns.violinplot(y=\"title\", x=\"basesalary\", data=df_Software_Eng_Mgr, palette='rainbow')\n",
    "\n",
    "sns.stripplot(y=\"title\", x=\"basesalary\", data=df_Software_Eng_Mgr, color='black', size=3).set(ylabel = None, xlabel = 'Base Salary')\n",
    "\n",
    "plt.yticks(rotation = 90)\n",
    "plt.title('Fig 3', fontsize = 20)\n",
    "plt.ticklabel_format(style='plain', axis = 'x')\n",
    "plt.tight_layout()"
   ]
  },
  {
   "cell_type": "code",
   "execution_count": 52,
   "metadata": {},
   "outputs": [
    {
     "data": {
      "image/png": "[encoded data removed]",
      "text/plain": [
       "<Figure size 1080x360 with 1 Axes>"
      ]
     },
     "metadata": {},
     "output_type": "display_data"
    }
   ],
   "source": [
    "sns.set(rc={'figure.figsize':(15, 5)})\n",
    "\n",
    "sorting = df_Software_Eng_Mgr.groupby(['company'])['basesalary'].aggregate(np.mean).reset_index().sort_values('basesalary', ascending = False).head(5)\n",
    "\n",
    "sns.barplot(x='company',y='basesalary',data=df_Software_Eng_Mgr, estimator = np.mean, order = sorting['company']).set(xlabel = None, ylabel = 'Base Salary')\n",
    "\n",
    "plt.xticks(rotation = 30, fontsize = 20)\n",
    "plt.yticks(fontsize = 15)\n",
    "plt.title('Top 5 Highest Average Salary for Software Engineering Managers acrros all Companies', fontsize = 15)\n",
    "plt.tight_layout()"
   ]
  },
  {
   "cell_type": "markdown",
   "metadata": {},
   "source": [
    "# Scatterplot and Linear Regression for Basesalary vs Years of Experience"
   ]
  },
  {
   "cell_type": "code",
   "execution_count": 53,
   "metadata": {},
   "outputs": [
    {
     "data": {
      "text/html": [
       "<div>\n",
       "<style scoped>\n",
       "    .dataframe tbody tr th:only-of-type {\n",
       "        vertical-align: middle;\n",
       "    }\n",
       "\n",
       "    .dataframe tbody tr th {\n",
       "        vertical-align: top;\n",
       "    }\n",
       "\n",
       "    .dataframe thead th {\n",
       "        text-align: right;\n",
       "    }\n",
       "</style>\n",
       "<table border=\"1\" class=\"dataframe\">\n",
       "  <thead>\n",
       "    <tr style=\"text-align: right;\">\n",
       "      <th></th>\n",
       "      <th>Unnamed: 0.1</th>\n",
       "      <th>Unnamed: 0</th>\n",
       "      <th>timestamp</th>\n",
       "      <th>company</th>\n",
       "      <th>level</th>\n",
       "      <th>title</th>\n",
       "      <th>totalyearlycompensation</th>\n",
       "      <th>yearsofexperience</th>\n",
       "      <th>yearsatcompany</th>\n",
       "      <th>tag</th>\n",
       "      <th>basesalary</th>\n",
       "      <th>stockgrantvalue</th>\n",
       "      <th>bonus</th>\n",
       "      <th>State</th>\n",
       "      <th>Country</th>\n",
       "      <th>Time</th>\n",
       "    </tr>\n",
       "  </thead>\n",
       "  <tbody>\n",
       "    <tr>\n",
       "      <th>35158</th>\n",
       "      <td>46988</td>\n",
       "      <td>46988</td>\n",
       "      <td>4/3/2021 11:04:46</td>\n",
       "      <td>Disney</td>\n",
       "      <td>5</td>\n",
       "      <td>Product Designer</td>\n",
       "      <td>102000</td>\n",
       "      <td>69.0</td>\n",
       "      <td>69.0</td>\n",
       "      <td>Interaction Design</td>\n",
       "      <td>140000.0</td>\n",
       "      <td>2000.0</td>\n",
       "      <td>0.0</td>\n",
       "      <td>MD</td>\n",
       "      <td>USA</td>\n",
       "      <td>2021-04-03 11:04:46</td>\n",
       "    </tr>\n",
       "  </tbody>\n",
       "</table>\n",
       "</div>"
      ],
      "text/plain": [
       "       Unnamed: 0.1  Unnamed: 0          timestamp company level  \\\n",
       "35158         46988       46988  4/3/2021 11:04:46  Disney     5   \n",
       "\n",
       "                  title  totalyearlycompensation  yearsofexperience  \\\n",
       "35158  Product Designer                   102000               69.0   \n",
       "\n",
       "       yearsatcompany                 tag  basesalary  stockgrantvalue  bonus  \\\n",
       "35158            69.0  Interaction Design    140000.0           2000.0    0.0   \n",
       "\n",
       "      State Country                Time  \n",
       "35158    MD     USA 2021-04-03 11:04:46  "
      ]
     },
     "execution_count": 53,
     "metadata": {},
     "output_type": "execute_result"
    }
   ],
   "source": [
    "#Spotting outlier: one with too much experience\n",
    "\n",
    "df_data_science_salaries_plot.loc[df_data_science_salaries_plot['yearsofexperience'] >60]"
   ]
  },
  {
   "cell_type": "code",
   "execution_count": 54,
   "metadata": {},
   "outputs": [
    {
     "data": {
      "text/html": [
       "<div>\n",
       "<style scoped>\n",
       "    .dataframe tbody tr th:only-of-type {\n",
       "        vertical-align: middle;\n",
       "    }\n",
       "\n",
       "    .dataframe tbody tr th {\n",
       "        vertical-align: top;\n",
       "    }\n",
       "\n",
       "    .dataframe thead th {\n",
       "        text-align: right;\n",
       "    }\n",
       "</style>\n",
       "<table border=\"1\" class=\"dataframe\">\n",
       "  <thead>\n",
       "    <tr style=\"text-align: right;\">\n",
       "      <th></th>\n",
       "      <th>Unnamed: 0.1</th>\n",
       "      <th>Unnamed: 0</th>\n",
       "      <th>timestamp</th>\n",
       "      <th>company</th>\n",
       "      <th>level</th>\n",
       "      <th>title</th>\n",
       "      <th>totalyearlycompensation</th>\n",
       "      <th>yearsofexperience</th>\n",
       "      <th>yearsatcompany</th>\n",
       "      <th>tag</th>\n",
       "      <th>basesalary</th>\n",
       "      <th>stockgrantvalue</th>\n",
       "      <th>bonus</th>\n",
       "      <th>State</th>\n",
       "      <th>Country</th>\n",
       "      <th>Time</th>\n",
       "    </tr>\n",
       "  </thead>\n",
       "  <tbody>\n",
       "  </tbody>\n",
       "</table>\n",
       "</div>"
      ],
      "text/plain": [
       "Empty DataFrame\n",
       "Columns: [Unnamed: 0.1, Unnamed: 0, timestamp, company, level, title, totalyearlycompensation, yearsofexperience, yearsatcompany, tag, basesalary, stockgrantvalue, bonus, State, Country, Time]\n",
       "Index: []"
      ]
     },
     "execution_count": 54,
     "metadata": {},
     "output_type": "execute_result"
    }
   ],
   "source": [
    "#Removing outlier: one with too much experience\n",
    "\n",
    "df_data_science_salaries_plot.drop(df_data_science_salaries_plot[df_data_science_salaries_plot.yearsofexperience > 60].index, inplace = True)\n",
    "\n",
    "df_data_science_salaries_plot.loc[df_data_science_salaries_plot['yearsofexperience'] >60]"
   ]
  },
  {
   "cell_type": "code",
   "execution_count": 55,
   "metadata": {},
   "outputs": [
    {
     "data": {
      "text/html": [
       "<div>\n",
       "<style scoped>\n",
       "    .dataframe tbody tr th:only-of-type {\n",
       "        vertical-align: middle;\n",
       "    }\n",
       "\n",
       "    .dataframe tbody tr th {\n",
       "        vertical-align: top;\n",
       "    }\n",
       "\n",
       "    .dataframe thead th {\n",
       "        text-align: right;\n",
       "    }\n",
       "</style>\n",
       "<table border=\"1\" class=\"dataframe\">\n",
       "  <thead>\n",
       "    <tr style=\"text-align: right;\">\n",
       "      <th></th>\n",
       "      <th>Unnamed: 0.1</th>\n",
       "      <th>Unnamed: 0</th>\n",
       "      <th>timestamp</th>\n",
       "      <th>company</th>\n",
       "      <th>level</th>\n",
       "      <th>title</th>\n",
       "      <th>totalyearlycompensation</th>\n",
       "      <th>yearsofexperience</th>\n",
       "      <th>yearsatcompany</th>\n",
       "      <th>tag</th>\n",
       "      <th>basesalary</th>\n",
       "      <th>stockgrantvalue</th>\n",
       "      <th>bonus</th>\n",
       "      <th>State</th>\n",
       "      <th>Country</th>\n",
       "      <th>Time</th>\n",
       "    </tr>\n",
       "  </thead>\n",
       "  <tbody>\n",
       "    <tr>\n",
       "      <th>45072</th>\n",
       "      <td>62351</td>\n",
       "      <td>62351</td>\n",
       "      <td>1/5/2018 13:59:58</td>\n",
       "      <td>Microsoft</td>\n",
       "      <td>64</td>\n",
       "      <td>Product Manager</td>\n",
       "      <td>250000</td>\n",
       "      <td>13.0</td>\n",
       "      <td>13.0</td>\n",
       "      <td>NaN</td>\n",
       "      <td>2323818.0</td>\n",
       "      <td>49850.0</td>\n",
       "      <td>31500.0</td>\n",
       "      <td>WA</td>\n",
       "      <td>USA</td>\n",
       "      <td>2018-01-05 13:59:58</td>\n",
       "    </tr>\n",
       "  </tbody>\n",
       "</table>\n",
       "</div>"
      ],
      "text/plain": [
       "       Unnamed: 0.1  Unnamed: 0          timestamp    company level  \\\n",
       "45072         62351       62351  1/5/2018 13:59:58  Microsoft    64   \n",
       "\n",
       "                 title  totalyearlycompensation  yearsofexperience  \\\n",
       "45072  Product Manager                   250000               13.0   \n",
       "\n",
       "       yearsatcompany  tag  basesalary  stockgrantvalue    bonus State  \\\n",
       "45072            13.0  NaN   2323818.0          49850.0  31500.0    WA   \n",
       "\n",
       "      Country                Time  \n",
       "45072     USA 2018-01-05 13:59:58  "
      ]
     },
     "execution_count": 55,
     "metadata": {},
     "output_type": "execute_result"
    }
   ],
   "source": [
    "#Spotting outlier: one with too high basesalary\n",
    "\n",
    "df_data_science_salaries_plot.loc[df_data_science_salaries_plot['basesalary'] > 1500000]"
   ]
  },
  {
   "cell_type": "code",
   "execution_count": 74,
   "metadata": {},
   "outputs": [
    {
     "data": {
      "text/html": [
       "<div>\n",
       "<style scoped>\n",
       "    .dataframe tbody tr th:only-of-type {\n",
       "        vertical-align: middle;\n",
       "    }\n",
       "\n",
       "    .dataframe tbody tr th {\n",
       "        vertical-align: top;\n",
       "    }\n",
       "\n",
       "    .dataframe thead th {\n",
       "        text-align: right;\n",
       "    }\n",
       "</style>\n",
       "<table border=\"1\" class=\"dataframe\">\n",
       "  <thead>\n",
       "    <tr style=\"text-align: right;\">\n",
       "      <th></th>\n",
       "      <th>Unnamed: 0.1</th>\n",
       "      <th>Unnamed: 0</th>\n",
       "      <th>timestamp</th>\n",
       "      <th>company</th>\n",
       "      <th>level</th>\n",
       "      <th>title</th>\n",
       "      <th>totalyearlycompensation</th>\n",
       "      <th>yearsofexperience</th>\n",
       "      <th>yearsatcompany</th>\n",
       "      <th>tag</th>\n",
       "      <th>basesalary</th>\n",
       "      <th>stockgrantvalue</th>\n",
       "      <th>bonus</th>\n",
       "      <th>State</th>\n",
       "      <th>Country</th>\n",
       "      <th>Time</th>\n",
       "    </tr>\n",
       "  </thead>\n",
       "  <tbody>\n",
       "  </tbody>\n",
       "</table>\n",
       "</div>"
      ],
      "text/plain": [
       "Empty DataFrame\n",
       "Columns: [Unnamed: 0.1, Unnamed: 0, timestamp, company, level, title, totalyearlycompensation, yearsofexperience, yearsatcompany, tag, basesalary, stockgrantvalue, bonus, State, Country, Time]\n",
       "Index: []"
      ]
     },
     "execution_count": 74,
     "metadata": {},
     "output_type": "execute_result"
    }
   ],
   "source": [
    "#Removign outlier: one with too high basesalary\n",
    "\n",
    "df_data_science_salaries_plot.drop(df_data_science_salaries_plot[df_data_science_salaries_plot.basesalary > 2000000 ].index, inplace = True)\n",
    "\n",
    "df_data_science_salaries_plot.loc[df_data_science_salaries_plot['basesalary'] > 1500000]"
   ]
  },
  {
   "cell_type": "code",
   "execution_count": 59,
   "metadata": {},
   "outputs": [
    {
     "data": {
      "text/html": [
       "<div>\n",
       "<style scoped>\n",
       "    .dataframe tbody tr th:only-of-type {\n",
       "        vertical-align: middle;\n",
       "    }\n",
       "\n",
       "    .dataframe tbody tr th {\n",
       "        vertical-align: top;\n",
       "    }\n",
       "\n",
       "    .dataframe thead th {\n",
       "        text-align: right;\n",
       "    }\n",
       "</style>\n",
       "<table border=\"1\" class=\"dataframe\">\n",
       "  <thead>\n",
       "    <tr style=\"text-align: right;\">\n",
       "      <th></th>\n",
       "      <th>Unnamed: 0.1</th>\n",
       "      <th>Unnamed: 0</th>\n",
       "      <th>totalyearlycompensation</th>\n",
       "      <th>yearsofexperience</th>\n",
       "      <th>yearsatcompany</th>\n",
       "      <th>basesalary</th>\n",
       "      <th>stockgrantvalue</th>\n",
       "      <th>bonus</th>\n",
       "    </tr>\n",
       "  </thead>\n",
       "  <tbody>\n",
       "    <tr>\n",
       "      <th>count</th>\n",
       "      <td>3375.000000</td>\n",
       "      <td>3375.000000</td>\n",
       "      <td>3375.000000</td>\n",
       "      <td>3375.0</td>\n",
       "      <td>3375.000000</td>\n",
       "      <td>3375.000000</td>\n",
       "      <td>3375.000000</td>\n",
       "      <td>3375.000000</td>\n",
       "    </tr>\n",
       "    <tr>\n",
       "      <th>mean</th>\n",
       "      <td>26898.237037</td>\n",
       "      <td>26898.237037</td>\n",
       "      <td>149824.962963</td>\n",
       "      <td>0.0</td>\n",
       "      <td>0.046201</td>\n",
       "      <td>155851.333052</td>\n",
       "      <td>22468.666667</td>\n",
       "      <td>16359.362963</td>\n",
       "    </tr>\n",
       "    <tr>\n",
       "      <th>std</th>\n",
       "      <td>17466.332716</td>\n",
       "      <td>17466.332716</td>\n",
       "      <td>50348.566900</td>\n",
       "      <td>0.0</td>\n",
       "      <td>0.288900</td>\n",
       "      <td>41111.789260</td>\n",
       "      <td>22892.105529</td>\n",
       "      <td>14096.220271</td>\n",
       "    </tr>\n",
       "    <tr>\n",
       "      <th>min</th>\n",
       "      <td>83.000000</td>\n",
       "      <td>83.000000</td>\n",
       "      <td>10000.000000</td>\n",
       "      <td>0.0</td>\n",
       "      <td>0.000000</td>\n",
       "      <td>1400.000000</td>\n",
       "      <td>0.000000</td>\n",
       "      <td>0.000000</td>\n",
       "    </tr>\n",
       "    <tr>\n",
       "      <th>25%</th>\n",
       "      <td>12204.500000</td>\n",
       "      <td>12204.500000</td>\n",
       "      <td>121000.000000</td>\n",
       "      <td>0.0</td>\n",
       "      <td>0.000000</td>\n",
       "      <td>142800.000000</td>\n",
       "      <td>2000.000000</td>\n",
       "      <td>8000.000000</td>\n",
       "    </tr>\n",
       "    <tr>\n",
       "      <th>50%</th>\n",
       "      <td>25709.000000</td>\n",
       "      <td>25709.000000</td>\n",
       "      <td>155000.000000</td>\n",
       "      <td>0.0</td>\n",
       "      <td>0.000000</td>\n",
       "      <td>161000.000000</td>\n",
       "      <td>20000.000000</td>\n",
       "      <td>14000.000000</td>\n",
       "    </tr>\n",
       "    <tr>\n",
       "      <th>75%</th>\n",
       "      <td>39280.500000</td>\n",
       "      <td>39280.500000</td>\n",
       "      <td>177000.000000</td>\n",
       "      <td>0.0</td>\n",
       "      <td>0.000000</td>\n",
       "      <td>179200.000000</td>\n",
       "      <td>34000.000000</td>\n",
       "      <td>21000.000000</td>\n",
       "    </tr>\n",
       "    <tr>\n",
       "      <th>max</th>\n",
       "      <td>62641.000000</td>\n",
       "      <td>62641.000000</td>\n",
       "      <td>415000.000000</td>\n",
       "      <td>0.0</td>\n",
       "      <td>6.000000</td>\n",
       "      <td>490000.000000</td>\n",
       "      <td>220000.000000</td>\n",
       "      <td>130000.000000</td>\n",
       "    </tr>\n",
       "  </tbody>\n",
       "</table>\n",
       "</div>"
      ],
      "text/plain": [
       "       Unnamed: 0.1    Unnamed: 0  totalyearlycompensation  yearsofexperience  \\\n",
       "count   3375.000000   3375.000000              3375.000000             3375.0   \n",
       "mean   26898.237037  26898.237037            149824.962963                0.0   \n",
       "std    17466.332716  17466.332716             50348.566900                0.0   \n",
       "min       83.000000     83.000000             10000.000000                0.0   \n",
       "25%    12204.500000  12204.500000            121000.000000                0.0   \n",
       "50%    25709.000000  25709.000000            155000.000000                0.0   \n",
       "75%    39280.500000  39280.500000            177000.000000                0.0   \n",
       "max    62641.000000  62641.000000            415000.000000                0.0   \n",
       "\n",
       "       yearsatcompany     basesalary  stockgrantvalue          bonus  \n",
       "count     3375.000000    3375.000000      3375.000000    3375.000000  \n",
       "mean         0.046201  155851.333052     22468.666667   16359.362963  \n",
       "std          0.288900   41111.789260     22892.105529   14096.220271  \n",
       "min          0.000000    1400.000000         0.000000       0.000000  \n",
       "25%          0.000000  142800.000000      2000.000000    8000.000000  \n",
       "50%          0.000000  161000.000000     20000.000000   14000.000000  \n",
       "75%          0.000000  179200.000000     34000.000000   21000.000000  \n",
       "max          6.000000  490000.000000    220000.000000  130000.000000  "
      ]
     },
     "execution_count": 59,
     "metadata": {},
     "output_type": "execute_result"
    }
   ],
   "source": [
    "df_data_science_salaries_plot.loc[df_data_science_salaries_plot['yearsofexperience'] == 0].sort_values(by = 'basesalary', ascending=True).describe()"
   ]
  },
  {
   "cell_type": "code",
   "execution_count": 75,
   "metadata": {},
   "outputs": [
    {
     "data": {
      "image/png": "[encoded data removed]",
      "text/plain": [
       "<Figure size 1080x720 with 1 Axes>"
      ]
     },
     "metadata": {},
     "output_type": "display_data"
    }
   ],
   "source": [
    "sns.set(rc={'figure.figsize': (15, 10)})\n",
    "\n",
    "slope, intercept, r_value, p_value, std_err = stats.linregress(df_data_science_salaries_plot['yearsofexperience'],df_data_science_salaries_plot['basesalary'])\n",
    "\n",
    "basesalary_vs_exp = sns.regplot(x='yearsofexperience', y='basesalary', data=df_data_science_salaries_plot, x_estimator= np.mean,\n",
    "                                scatter_kws = {'color':'blue'}, \n",
    "                                line_kws = {'label':\"y={0:.1f}x+{1:.1f}\".format(slope,intercept), 'color':'red'})\n",
    "\n",
    "basesalary_vs_exp.set(xlabel = 'Years of Experience', ylabel = 'Base Salary', title = 'Base Salary vs Years of Experience')\n",
    "\n",
    "basesalary_vs_exp.legend()\n",
    "\n",
    "plt.ylim(0, 800000)\n",
    "\n",
    "plt.xticks(np.arange(0, 50, 5))\n",
    "\n",
    "plt.yticks(np.arange(0, 800000, 50000))\n",
    "\n",
    "plt.show()"
   ]
  },
  {
   "cell_type": "markdown",
   "metadata": {},
   "source": [
    "# Location and Base Salary"
   ]
  },
  {
   "cell_type": "code",
   "execution_count": 76,
   "metadata": {},
   "outputs": [
    {
     "name": "stdout",
     "output_type": "stream",
     "text": [
      "Number of entries with no location: 0\n"
     ]
    }
   ],
   "source": [
    "# Checking number of values counts that have no location\n",
    "\n",
    "print(f\"Number of entries with no location: {df_data_science_salaries_plot['Country'].isna().sum()}\")"
   ]
  },
  {
   "cell_type": "code",
   "execution_count": 77,
   "metadata": {},
   "outputs": [
    {
     "data": {
      "text/html": [
       "<div>\n",
       "<style scoped>\n",
       "    .dataframe tbody tr th:only-of-type {\n",
       "        vertical-align: middle;\n",
       "    }\n",
       "\n",
       "    .dataframe tbody tr th {\n",
       "        vertical-align: top;\n",
       "    }\n",
       "\n",
       "    .dataframe thead th {\n",
       "        text-align: right;\n",
       "    }\n",
       "</style>\n",
       "<table border=\"1\" class=\"dataframe\">\n",
       "  <thead>\n",
       "    <tr style=\"text-align: right;\">\n",
       "      <th></th>\n",
       "      <th>Country</th>\n",
       "      <th>Unnamed: 0.1</th>\n",
       "      <th>Unnamed: 0</th>\n",
       "      <th>totalyearlycompensation</th>\n",
       "      <th>yearsofexperience</th>\n",
       "      <th>yearsatcompany</th>\n",
       "      <th>basesalary</th>\n",
       "      <th>stockgrantvalue</th>\n",
       "      <th>bonus</th>\n",
       "    </tr>\n",
       "  </thead>\n",
       "  <tbody>\n",
       "    <tr>\n",
       "      <th>0</th>\n",
       "      <td>Switzerland</td>\n",
       "      <td>24557.206667</td>\n",
       "      <td>24557.206667</td>\n",
       "      <td>272000.000000</td>\n",
       "      <td>7.966667</td>\n",
       "      <td>3.490000</td>\n",
       "      <td>239879.648880</td>\n",
       "      <td>62406.666667</td>\n",
       "      <td>27826.666667</td>\n",
       "    </tr>\n",
       "    <tr>\n",
       "      <th>1</th>\n",
       "      <td>USA</td>\n",
       "      <td>28636.787893</td>\n",
       "      <td>28636.787893</td>\n",
       "      <td>251902.502039</td>\n",
       "      <td>7.405239</td>\n",
       "      <td>2.817409</td>\n",
       "      <td>220220.625396</td>\n",
       "      <td>66720.795048</td>\n",
       "      <td>22627.887207</td>\n",
       "    </tr>\n",
       "    <tr>\n",
       "      <th>2</th>\n",
       "      <td>Israel</td>\n",
       "      <td>33622.081545</td>\n",
       "      <td>33622.081545</td>\n",
       "      <td>180673.819742</td>\n",
       "      <td>8.699571</td>\n",
       "      <td>3.419528</td>\n",
       "      <td>178559.900423</td>\n",
       "      <td>34291.845494</td>\n",
       "      <td>18227.467811</td>\n",
       "    </tr>\n",
       "    <tr>\n",
       "      <th>3</th>\n",
       "      <td>Australia</td>\n",
       "      <td>33348.618280</td>\n",
       "      <td>33348.618280</td>\n",
       "      <td>166338.709677</td>\n",
       "      <td>8.666667</td>\n",
       "      <td>2.505376</td>\n",
       "      <td>165440.922213</td>\n",
       "      <td>28494.623656</td>\n",
       "      <td>17456.989247</td>\n",
       "    </tr>\n",
       "    <tr>\n",
       "      <th>4</th>\n",
       "      <td>Singapore</td>\n",
       "      <td>36676.995000</td>\n",
       "      <td>36676.995000</td>\n",
       "      <td>170295.000000</td>\n",
       "      <td>7.675000</td>\n",
       "      <td>2.505000</td>\n",
       "      <td>163874.760000</td>\n",
       "      <td>34298.750000</td>\n",
       "      <td>19209.340000</td>\n",
       "    </tr>\n",
       "    <tr>\n",
       "      <th>5</th>\n",
       "      <td>United Kingdom</td>\n",
       "      <td>34833.774275</td>\n",
       "      <td>34833.774275</td>\n",
       "      <td>174954.602774</td>\n",
       "      <td>7.225725</td>\n",
       "      <td>2.108449</td>\n",
       "      <td>155792.496087</td>\n",
       "      <td>43332.282472</td>\n",
       "      <td>18842.370744</td>\n",
       "    </tr>\n",
       "    <tr>\n",
       "      <th>6</th>\n",
       "      <td>Canada</td>\n",
       "      <td>36357.436145</td>\n",
       "      <td>36357.436145</td>\n",
       "      <td>148121.285141</td>\n",
       "      <td>6.431727</td>\n",
       "      <td>2.113253</td>\n",
       "      <td>146727.781736</td>\n",
       "      <td>32814.056225</td>\n",
       "      <td>10766.265060</td>\n",
       "    </tr>\n",
       "    <tr>\n",
       "      <th>7</th>\n",
       "      <td>Netherlands</td>\n",
       "      <td>28380.074074</td>\n",
       "      <td>28380.074074</td>\n",
       "      <td>144111.111111</td>\n",
       "      <td>8.682540</td>\n",
       "      <td>2.595238</td>\n",
       "      <td>145584.087825</td>\n",
       "      <td>23132.275132</td>\n",
       "      <td>16560.846561</td>\n",
       "    </tr>\n",
       "    <tr>\n",
       "      <th>8</th>\n",
       "      <td>Ireland</td>\n",
       "      <td>33917.242291</td>\n",
       "      <td>33917.242291</td>\n",
       "      <td>152713.656388</td>\n",
       "      <td>7.647577</td>\n",
       "      <td>2.319824</td>\n",
       "      <td>139745.258441</td>\n",
       "      <td>41403.083700</td>\n",
       "      <td>13339.207048</td>\n",
       "    </tr>\n",
       "    <tr>\n",
       "      <th>9</th>\n",
       "      <td>Germany</td>\n",
       "      <td>34036.764925</td>\n",
       "      <td>34036.764925</td>\n",
       "      <td>129824.626866</td>\n",
       "      <td>7.410448</td>\n",
       "      <td>2.315299</td>\n",
       "      <td>134529.414673</td>\n",
       "      <td>22186.567164</td>\n",
       "      <td>12018.656716</td>\n",
       "    </tr>\n",
       "    <tr>\n",
       "      <th>10</th>\n",
       "      <td>India</td>\n",
       "      <td>39038.886812</td>\n",
       "      <td>39038.886812</td>\n",
       "      <td>68578.400831</td>\n",
       "      <td>6.902908</td>\n",
       "      <td>2.284839</td>\n",
       "      <td>64869.983417</td>\n",
       "      <td>17867.795950</td>\n",
       "      <td>6229.810488</td>\n",
       "    </tr>\n",
       "    <tr>\n",
       "      <th>11</th>\n",
       "      <td>Russia</td>\n",
       "      <td>30454.348485</td>\n",
       "      <td>30454.348485</td>\n",
       "      <td>62220.202020</td>\n",
       "      <td>7.323232</td>\n",
       "      <td>3.103535</td>\n",
       "      <td>54091.307742</td>\n",
       "      <td>18785.353535</td>\n",
       "      <td>6879.797980</td>\n",
       "    </tr>\n",
       "  </tbody>\n",
       "</table>\n",
       "</div>"
      ],
      "text/plain": [
       "           Country  Unnamed: 0.1    Unnamed: 0  totalyearlycompensation  \\\n",
       "0      Switzerland  24557.206667  24557.206667            272000.000000   \n",
       "1              USA  28636.787893  28636.787893            251902.502039   \n",
       "2           Israel  33622.081545  33622.081545            180673.819742   \n",
       "3        Australia  33348.618280  33348.618280            166338.709677   \n",
       "4        Singapore  36676.995000  36676.995000            170295.000000   \n",
       "5   United Kingdom  34833.774275  34833.774275            174954.602774   \n",
       "6           Canada  36357.436145  36357.436145            148121.285141   \n",
       "7      Netherlands  28380.074074  28380.074074            144111.111111   \n",
       "8          Ireland  33917.242291  33917.242291            152713.656388   \n",
       "9          Germany  34036.764925  34036.764925            129824.626866   \n",
       "10           India  39038.886812  39038.886812             68578.400831   \n",
       "11          Russia  30454.348485  30454.348485             62220.202020   \n",
       "\n",
       "    yearsofexperience  yearsatcompany     basesalary  stockgrantvalue  \\\n",
       "0            7.966667        3.490000  239879.648880     62406.666667   \n",
       "1            7.405239        2.817409  220220.625396     66720.795048   \n",
       "2            8.699571        3.419528  178559.900423     34291.845494   \n",
       "3            8.666667        2.505376  165440.922213     28494.623656   \n",
       "4            7.675000        2.505000  163874.760000     34298.750000   \n",
       "5            7.225725        2.108449  155792.496087     43332.282472   \n",
       "6            6.431727        2.113253  146727.781736     32814.056225   \n",
       "7            8.682540        2.595238  145584.087825     23132.275132   \n",
       "8            7.647577        2.319824  139745.258441     41403.083700   \n",
       "9            7.410448        2.315299  134529.414673     22186.567164   \n",
       "10           6.902908        2.284839   64869.983417     17867.795950   \n",
       "11           7.323232        3.103535   54091.307742     18785.353535   \n",
       "\n",
       "           bonus  \n",
       "0   27826.666667  \n",
       "1   22627.887207  \n",
       "2   18227.467811  \n",
       "3   17456.989247  \n",
       "4   19209.340000  \n",
       "5   18842.370744  \n",
       "6   10766.265060  \n",
       "7   16560.846561  \n",
       "8   13339.207048  \n",
       "9   12018.656716  \n",
       "10   6229.810488  \n",
       "11   6879.797980  "
      ]
     },
     "execution_count": 77,
     "metadata": {},
     "output_type": "execute_result"
    }
   ],
   "source": [
    "# Checking highest paying average basesalary based on location\n",
    "\n",
    "df_best_paying_location = df_data_science_salaries_plot.groupby(['Country']).mean().sort_values(by = 'basesalary', ascending = False)\n",
    "\n",
    "df_best_paying_location.reset_index(inplace = True)\n",
    "\n",
    "df_best_paying_location"
   ]
  },
  {
   "cell_type": "code",
   "execution_count": 78,
   "metadata": {},
   "outputs": [],
   "source": [
    "df_data_science_salaries_plot['Year'] = df_data_science_salaries_plot['Time'].dt.year"
   ]
  },
  {
   "cell_type": "code",
   "execution_count": 79,
   "metadata": {},
   "outputs": [
    {
     "data": {
      "text/html": [
       "<div>\n",
       "<style scoped>\n",
       "    .dataframe tbody tr th:only-of-type {\n",
       "        vertical-align: middle;\n",
       "    }\n",
       "\n",
       "    .dataframe tbody tr th {\n",
       "        vertical-align: top;\n",
       "    }\n",
       "\n",
       "    .dataframe thead th {\n",
       "        text-align: right;\n",
       "    }\n",
       "</style>\n",
       "<table border=\"1\" class=\"dataframe\">\n",
       "  <thead>\n",
       "    <tr style=\"text-align: right;\">\n",
       "      <th>Year</th>\n",
       "      <th>2017</th>\n",
       "      <th>2018</th>\n",
       "      <th>2019</th>\n",
       "      <th>2020</th>\n",
       "      <th>2021</th>\n",
       "    </tr>\n",
       "    <tr>\n",
       "      <th>Country</th>\n",
       "      <th></th>\n",
       "      <th></th>\n",
       "      <th></th>\n",
       "      <th></th>\n",
       "      <th></th>\n",
       "    </tr>\n",
       "  </thead>\n",
       "  <tbody>\n",
       "    <tr>\n",
       "      <th>Australia</th>\n",
       "      <td>NaN</td>\n",
       "      <td>206231.276118</td>\n",
       "      <td>166173.086628</td>\n",
       "      <td>165081.690141</td>\n",
       "      <td>161825.641026</td>\n",
       "    </tr>\n",
       "    <tr>\n",
       "      <th>Canada</th>\n",
       "      <td>168000.000000</td>\n",
       "      <td>158566.284295</td>\n",
       "      <td>161988.966219</td>\n",
       "      <td>140738.242280</td>\n",
       "      <td>146180.922099</td>\n",
       "    </tr>\n",
       "    <tr>\n",
       "      <th>Germany</th>\n",
       "      <td>NaN</td>\n",
       "      <td>142988.683301</td>\n",
       "      <td>141811.728544</td>\n",
       "      <td>129234.848485</td>\n",
       "      <td>138963.461538</td>\n",
       "    </tr>\n",
       "    <tr>\n",
       "      <th>India</th>\n",
       "      <td>158577.366603</td>\n",
       "      <td>124389.419386</td>\n",
       "      <td>88227.313059</td>\n",
       "      <td>62575.280899</td>\n",
       "      <td>61892.497626</td>\n",
       "    </tr>\n",
       "    <tr>\n",
       "      <th>Ireland</th>\n",
       "      <td>138600.000000</td>\n",
       "      <td>175259.937225</td>\n",
       "      <td>135559.797431</td>\n",
       "      <td>128644.444444</td>\n",
       "      <td>143770.297030</td>\n",
       "    </tr>\n",
       "    <tr>\n",
       "      <th>Israel</th>\n",
       "      <td>NaN</td>\n",
       "      <td>190252.366603</td>\n",
       "      <td>182449.581574</td>\n",
       "      <td>173840.000000</td>\n",
       "      <td>181738.461538</td>\n",
       "    </tr>\n",
       "    <tr>\n",
       "      <th>Netherlands</th>\n",
       "      <td>NaN</td>\n",
       "      <td>134644.279975</td>\n",
       "      <td>145798.064844</td>\n",
       "      <td>143657.500000</td>\n",
       "      <td>151028.070175</td>\n",
       "    </tr>\n",
       "    <tr>\n",
       "      <th>Russia</th>\n",
       "      <td>NaN</td>\n",
       "      <td>73256.209981</td>\n",
       "      <td>58423.113884</td>\n",
       "      <td>48480.412371</td>\n",
       "      <td>55091.228070</td>\n",
       "    </tr>\n",
       "    <tr>\n",
       "      <th>Singapore</th>\n",
       "      <td>NaN</td>\n",
       "      <td>153070.400000</td>\n",
       "      <td>181490.909091</td>\n",
       "      <td>168422.916667</td>\n",
       "      <td>157325.000000</td>\n",
       "    </tr>\n",
       "    <tr>\n",
       "      <th>Switzerland</th>\n",
       "      <td>NaN</td>\n",
       "      <td>214631.138836</td>\n",
       "      <td>237682.284537</td>\n",
       "      <td>240240.000000</td>\n",
       "      <td>249918.918919</td>\n",
       "    </tr>\n",
       "    <tr>\n",
       "      <th>USA</th>\n",
       "      <td>213791.733706</td>\n",
       "      <td>216183.881737</td>\n",
       "      <td>218292.335858</td>\n",
       "      <td>220039.939056</td>\n",
       "      <td>222929.345281</td>\n",
       "    </tr>\n",
       "    <tr>\n",
       "      <th>United Kingdom</th>\n",
       "      <td>196377.366603</td>\n",
       "      <td>187892.592816</td>\n",
       "      <td>146984.396513</td>\n",
       "      <td>150279.322034</td>\n",
       "      <td>159803.225806</td>\n",
       "    </tr>\n",
       "  </tbody>\n",
       "</table>\n",
       "</div>"
      ],
      "text/plain": [
       "Year                     2017           2018           2019           2020  \\\n",
       "Country                                                                      \n",
       "Australia                 NaN  206231.276118  166173.086628  165081.690141   \n",
       "Canada          168000.000000  158566.284295  161988.966219  140738.242280   \n",
       "Germany                   NaN  142988.683301  141811.728544  129234.848485   \n",
       "India           158577.366603  124389.419386   88227.313059   62575.280899   \n",
       "Ireland         138600.000000  175259.937225  135559.797431  128644.444444   \n",
       "Israel                    NaN  190252.366603  182449.581574  173840.000000   \n",
       "Netherlands               NaN  134644.279975  145798.064844  143657.500000   \n",
       "Russia                    NaN   73256.209981   58423.113884   48480.412371   \n",
       "Singapore                 NaN  153070.400000  181490.909091  168422.916667   \n",
       "Switzerland               NaN  214631.138836  237682.284537  240240.000000   \n",
       "USA             213791.733706  216183.881737  218292.335858  220039.939056   \n",
       "United Kingdom  196377.366603  187892.592816  146984.396513  150279.322034   \n",
       "\n",
       "Year                     2021  \n",
       "Country                        \n",
       "Australia       161825.641026  \n",
       "Canada          146180.922099  \n",
       "Germany         138963.461538  \n",
       "India            61892.497626  \n",
       "Ireland         143770.297030  \n",
       "Israel          181738.461538  \n",
       "Netherlands     151028.070175  \n",
       "Russia           55091.228070  \n",
       "Singapore       157325.000000  \n",
       "Switzerland     249918.918919  \n",
       "USA             222929.345281  \n",
       "United Kingdom  159803.225806  "
      ]
     },
     "execution_count": 79,
     "metadata": {},
     "output_type": "execute_result"
    }
   ],
   "source": [
    "basesalary_country = pd.pivot_table(df_data_science_salaries_plot, values = 'basesalary', index= 'Country', columns= 'Year', aggfunc= np.mean)\n",
    "\n",
    "basesalary_country.reset_index(inplace = False)\n",
    "\n",
    "basesalary_country"
   ]
  },
  {
   "cell_type": "code",
   "execution_count": 80,
   "metadata": {},
   "outputs": [
    {
     "data": {
      "text/html": [
       "<div>\n",
       "<style scoped>\n",
       "    .dataframe tbody tr th:only-of-type {\n",
       "        vertical-align: middle;\n",
       "    }\n",
       "\n",
       "    .dataframe tbody tr th {\n",
       "        vertical-align: top;\n",
       "    }\n",
       "\n",
       "    .dataframe thead th {\n",
       "        text-align: right;\n",
       "    }\n",
       "</style>\n",
       "<table border=\"1\" class=\"dataframe\">\n",
       "  <thead>\n",
       "    <tr style=\"text-align: right;\">\n",
       "      <th>Country</th>\n",
       "      <th>Year</th>\n",
       "      <th>Australia</th>\n",
       "      <th>Canada</th>\n",
       "      <th>Germany</th>\n",
       "      <th>India</th>\n",
       "      <th>Ireland</th>\n",
       "      <th>Israel</th>\n",
       "      <th>Netherlands</th>\n",
       "      <th>Russia</th>\n",
       "      <th>Singapore</th>\n",
       "      <th>Switzerland</th>\n",
       "      <th>USA</th>\n",
       "      <th>United Kingdom</th>\n",
       "    </tr>\n",
       "  </thead>\n",
       "  <tbody>\n",
       "    <tr>\n",
       "      <th>0</th>\n",
       "      <td>2017</td>\n",
       "      <td>NaN</td>\n",
       "      <td>168000.000000</td>\n",
       "      <td>NaN</td>\n",
       "      <td>158577.366603</td>\n",
       "      <td>138600.000000</td>\n",
       "      <td>NaN</td>\n",
       "      <td>NaN</td>\n",
       "      <td>NaN</td>\n",
       "      <td>NaN</td>\n",
       "      <td>NaN</td>\n",
       "      <td>213791.733706</td>\n",
       "      <td>196377.366603</td>\n",
       "    </tr>\n",
       "    <tr>\n",
       "      <th>1</th>\n",
       "      <td>2018</td>\n",
       "      <td>206231.276118</td>\n",
       "      <td>158566.284295</td>\n",
       "      <td>142988.683301</td>\n",
       "      <td>124389.419386</td>\n",
       "      <td>175259.937225</td>\n",
       "      <td>190252.366603</td>\n",
       "      <td>134644.279975</td>\n",
       "      <td>73256.209981</td>\n",
       "      <td>153070.400000</td>\n",
       "      <td>214631.138836</td>\n",
       "      <td>216183.881737</td>\n",
       "      <td>187892.592816</td>\n",
       "    </tr>\n",
       "    <tr>\n",
       "      <th>2</th>\n",
       "      <td>2019</td>\n",
       "      <td>166173.086628</td>\n",
       "      <td>161988.966219</td>\n",
       "      <td>141811.728544</td>\n",
       "      <td>88227.313059</td>\n",
       "      <td>135559.797431</td>\n",
       "      <td>182449.581574</td>\n",
       "      <td>145798.064844</td>\n",
       "      <td>58423.113884</td>\n",
       "      <td>181490.909091</td>\n",
       "      <td>237682.284537</td>\n",
       "      <td>218292.335858</td>\n",
       "      <td>146984.396513</td>\n",
       "    </tr>\n",
       "    <tr>\n",
       "      <th>3</th>\n",
       "      <td>2020</td>\n",
       "      <td>165081.690141</td>\n",
       "      <td>140738.242280</td>\n",
       "      <td>129234.848485</td>\n",
       "      <td>62575.280899</td>\n",
       "      <td>128644.444444</td>\n",
       "      <td>173840.000000</td>\n",
       "      <td>143657.500000</td>\n",
       "      <td>48480.412371</td>\n",
       "      <td>168422.916667</td>\n",
       "      <td>240240.000000</td>\n",
       "      <td>220039.939056</td>\n",
       "      <td>150279.322034</td>\n",
       "    </tr>\n",
       "    <tr>\n",
       "      <th>4</th>\n",
       "      <td>2021</td>\n",
       "      <td>161825.641026</td>\n",
       "      <td>146180.922099</td>\n",
       "      <td>138963.461538</td>\n",
       "      <td>61892.497626</td>\n",
       "      <td>143770.297030</td>\n",
       "      <td>181738.461538</td>\n",
       "      <td>151028.070175</td>\n",
       "      <td>55091.228070</td>\n",
       "      <td>157325.000000</td>\n",
       "      <td>249918.918919</td>\n",
       "      <td>222929.345281</td>\n",
       "      <td>159803.225806</td>\n",
       "    </tr>\n",
       "  </tbody>\n",
       "</table>\n",
       "</div>"
      ],
      "text/plain": [
       "Country  Year      Australia         Canada        Germany          India  \\\n",
       "0        2017            NaN  168000.000000            NaN  158577.366603   \n",
       "1        2018  206231.276118  158566.284295  142988.683301  124389.419386   \n",
       "2        2019  166173.086628  161988.966219  141811.728544   88227.313059   \n",
       "3        2020  165081.690141  140738.242280  129234.848485   62575.280899   \n",
       "4        2021  161825.641026  146180.922099  138963.461538   61892.497626   \n",
       "\n",
       "Country        Ireland         Israel    Netherlands        Russia  \\\n",
       "0        138600.000000            NaN            NaN           NaN   \n",
       "1        175259.937225  190252.366603  134644.279975  73256.209981   \n",
       "2        135559.797431  182449.581574  145798.064844  58423.113884   \n",
       "3        128644.444444  173840.000000  143657.500000  48480.412371   \n",
       "4        143770.297030  181738.461538  151028.070175  55091.228070   \n",
       "\n",
       "Country      Singapore    Switzerland            USA  United Kingdom  \n",
       "0                  NaN            NaN  213791.733706   196377.366603  \n",
       "1        153070.400000  214631.138836  216183.881737   187892.592816  \n",
       "2        181490.909091  237682.284537  218292.335858   146984.396513  \n",
       "3        168422.916667  240240.000000  220039.939056   150279.322034  \n",
       "4        157325.000000  249918.918919  222929.345281   159803.225806  "
      ]
     },
     "execution_count": 80,
     "metadata": {},
     "output_type": "execute_result"
    }
   ],
   "source": [
    "basesalary_country_transposed = basesalary_country.transpose(copy = True)\n",
    "\n",
    "basesalary_country_transposed.reset_index(inplace = True)\n",
    "\n",
    "basesalary_country_transposed"
   ]
  },
  {
   "cell_type": "code",
   "execution_count": 81,
   "metadata": {},
   "outputs": [
    {
     "data": {
      "text/plain": [
       "Country\n",
       "Year                int64\n",
       "Australia         float64\n",
       "Canada            float64\n",
       "Germany           float64\n",
       "India             float64\n",
       "Ireland           float64\n",
       "Israel            float64\n",
       "Netherlands       float64\n",
       "Russia            float64\n",
       "Singapore         float64\n",
       "Switzerland       float64\n",
       "USA               float64\n",
       "United Kingdom    float64\n",
       "dtype: object"
      ]
     },
     "execution_count": 81,
     "metadata": {},
     "output_type": "execute_result"
    }
   ],
   "source": [
    "basesalary_country_transposed.dtypes"
   ]
  },
  {
   "cell_type": "code",
   "execution_count": 89,
   "metadata": {},
   "outputs": [
    {
     "data": {
      "application/vnd.plotly.v1+json": {
       "config": {
        "plotlyServerURL": "https://plot.ly"
       },
       "data": [
        {
         "name": "Australia",
         "type": "scatter",
         "x": [
          2017,
          2018,
          2019,
          2020,
          2021
         ],
         "y": [
          168000,
          158566.28429499245,
          161988.96621894996,
          140738.24228028505,
          146180.92209856916
         ]
        },
        {
         "name": "Canada",
         "type": "scatter",
         "x": [
          2017,
          2018,
          2019,
          2020,
          2021
         ],
         "y": [
          null,
          142988.68330148715,
          141811.72854413185,
          129234.84848484848,
          138963.46153846153
         ]
        },
        {
         "name": "Germany",
         "type": "scatter",
         "x": [
          2017,
          2018,
          2019,
          2020,
          2021
         ],
         "y": [
          158577.3666029743,
          124389.41938605979,
          88227.31305905562,
          62575.2808988764,
          61892.49762583096
         ]
        },
        {
         "name": "India",
         "type": "scatter",
         "x": [
          2017,
          2018,
          2019,
          2020,
          2021
         ],
         "y": [
          138600,
          175259.93722492908,
          135559.797430998,
          128644.44444444444,
          143770.29702970298
         ]
        },
        {
         "name": "Ireland",
         "type": "scatter",
         "x": [
          2017,
          2018,
          2019,
          2020,
          2021
         ],
         "y": [
          null,
          190252.3666029743,
          182449.58157405478,
          173840,
          181738.46153846153
         ]
        },
        {
         "name": "Israel",
         "type": "scatter",
         "x": [
          2017,
          2018,
          2019,
          2020,
          2021
         ],
         "y": [
          null,
          134644.27997452306,
          145798.0648442079,
          143657.5,
          151028.0701754386
         ]
        },
        {
         "name": "Netherlands",
         "type": "scatter",
         "x": [
          2017,
          2018,
          2019,
          2020,
          2021
         ],
         "y": [
          null,
          73256.2099808923,
          58423.11388358119,
          48480.41237113402,
          55091.228070175435
         ]
        },
        {
         "name": "Russia",
         "type": "scatter",
         "x": [
          2017,
          2018,
          2019,
          2020,
          2021
         ],
         "y": [
          null,
          153070.4,
          181490.9090909091,
          168422.91666666666,
          157325
         ]
        },
        {
         "name": "Singapore",
         "type": "scatter",
         "x": [
          2017,
          2018,
          2019,
          2020,
          2021
         ],
         "y": [
          null,
          214631.1388358119,
          237682.28453731083,
          240240,
          249918.9189189189
         ]
        },
        {
         "name": "Switzerland",
         "type": "scatter",
         "x": [
          2017,
          2018,
          2019,
          2020,
          2021
         ],
         "y": [
          213791.73370606327,
          216183.8817366907,
          218292.3358583729,
          220039.9390556573,
          222929.34528134335
         ]
        },
        {
         "name": "USA",
         "type": "scatter",
         "x": [
          2017,
          2018,
          2019,
          2020,
          2021
         ],
         "y": [
          196377.3666029743,
          187892.59281619778,
          146984.3965131816,
          150279.3220338983,
          159803.2258064516
         ]
        }
       ],
       "layout": {
        "autosize": false,
        "height": 400,
        "template": {
         "data": {
          "bar": [
           {
            "error_x": {
             "color": "#2a3f5f"
            },
            "error_y": {
             "color": "#2a3f5f"
            },
            "marker": {
             "line": {
              "color": "#E5ECF6",
              "width": 0.5
             },
             "pattern": {
              "fillmode": "overlay",
              "size": 10,
              "solidity": 0.2
             }
            },
            "type": "bar"
           }
          ],
          "barpolar": [
           {
            "marker": {
             "line": {
              "color": "#E5ECF6",
              "width": 0.5
             },
             "pattern": {
              "fillmode": "overlay",
              "size": 10,
              "solidity": 0.2
             }
            },
            "type": "barpolar"
           }
          ],
          "carpet": [
           {
            "aaxis": {
             "endlinecolor": "#2a3f5f",
             "gridcolor": "white",
             "linecolor": "white",
             "minorgridcolor": "white",
             "startlinecolor": "#2a3f5f"
            },
            "baxis": {
             "endlinecolor": "#2a3f5f",
             "gridcolor": "white",
             "linecolor": "white",
             "minorgridcolor": "white",
             "startlinecolor": "#2a3f5f"
            },
            "type": "carpet"
           }
          ],
          "choropleth": [
           {
            "colorbar": {
             "outlinewidth": 0,
             "ticks": ""
            },
            "type": "choropleth"
           }
          ],
          "contour": [
           {
            "colorbar": {
             "outlinewidth": 0,
             "ticks": ""
            },
            "colorscale": [
             [
              0,
              "#0d0887"
             ],
             [
              0.1111111111111111,
              "#46039f"
             ],
             [
              0.2222222222222222,
              "#7201a8"
             ],
             [
              0.3333333333333333,
              "#9c179e"
             ],
             [
              0.4444444444444444,
              "#bd3786"
             ],
             [
              0.5555555555555556,
              "#d8576b"
             ],
             [
              0.6666666666666666,
              "#ed7953"
             ],
             [
              0.7777777777777778,
              "#fb9f3a"
             ],
             [
              0.8888888888888888,
              "#fdca26"
             ],
             [
              1,
              "#f0f921"
             ]
            ],
            "type": "contour"
           }
          ],
          "contourcarpet": [
           {
            "colorbar": {
             "outlinewidth": 0,
             "ticks": ""
            },
            "type": "contourcarpet"
           }
          ],
          "heatmap": [
           {
            "colorbar": {
             "outlinewidth": 0,
             "ticks": ""
            },
            "colorscale": [
             [
              0,
              "#0d0887"
             ],
             [
              0.1111111111111111,
              "#46039f"
             ],
             [
              0.2222222222222222,
              "#7201a8"
             ],
             [
              0.3333333333333333,
              "#9c179e"
             ],
             [
              0.4444444444444444,
              "#bd3786"
             ],
             [
              0.5555555555555556,
              "#d8576b"
             ],
             [
              0.6666666666666666,
              "#ed7953"
             ],
             [
              0.7777777777777778,
              "#fb9f3a"
             ],
             [
              0.8888888888888888,
              "#fdca26"
             ],
             [
              1,
              "#f0f921"
             ]
            ],
            "type": "heatmap"
           }
          ],
          "heatmapgl": [
           {
            "colorbar": {
             "outlinewidth": 0,
             "ticks": ""
            },
            "colorscale": [
             [
              0,
              "#0d0887"
             ],
             [
              0.1111111111111111,
              "#46039f"
             ],
             [
              0.2222222222222222,
              "#7201a8"
             ],
             [
              0.3333333333333333,
              "#9c179e"
             ],
             [
              0.4444444444444444,
              "#bd3786"
             ],
             [
              0.5555555555555556,
              "#d8576b"
             ],
             [
              0.6666666666666666,
              "#ed7953"
             ],
             [
              0.7777777777777778,
              "#fb9f3a"
             ],
             [
              0.8888888888888888,
              "#fdca26"
             ],
             [
              1,
              "#f0f921"
             ]
            ],
            "type": "heatmapgl"
           }
          ],
          "histogram": [
           {
            "marker": {
             "pattern": {
              "fillmode": "overlay",
              "size": 10,
              "solidity": 0.2
             }
            },
            "type": "histogram"
           }
          ],
          "histogram2d": [
           {
            "colorbar": {
             "outlinewidth": 0,
             "ticks": ""
            },
            "colorscale": [
             [
              0,
              "#0d0887"
             ],
             [
              0.1111111111111111,
              "#46039f"
             ],
             [
              0.2222222222222222,
              "#7201a8"
             ],
             [
              0.3333333333333333,
              "#9c179e"
             ],
             [
              0.4444444444444444,
              "#bd3786"
             ],
             [
              0.5555555555555556,
              "#d8576b"
             ],
             [
              0.6666666666666666,
              "#ed7953"
             ],
             [
              0.7777777777777778,
              "#fb9f3a"
             ],
             [
              0.8888888888888888,
              "#fdca26"
             ],
             [
              1,
              "#f0f921"
             ]
            ],
            "type": "histogram2d"
           }
          ],
          "histogram2dcontour": [
           {
            "colorbar": {
             "outlinewidth": 0,
             "ticks": ""
            },
            "colorscale": [
             [
              0,
              "#0d0887"
             ],
             [
              0.1111111111111111,
              "#46039f"
             ],
             [
              0.2222222222222222,
              "#7201a8"
             ],
             [
              0.3333333333333333,
              "#9c179e"
             ],
             [
              0.4444444444444444,
              "#bd3786"
             ],
             [
              0.5555555555555556,
              "#d8576b"
             ],
             [
              0.6666666666666666,
              "#ed7953"
             ],
             [
              0.7777777777777778,
              "#fb9f3a"
             ],
             [
              0.8888888888888888,
              "#fdca26"
             ],
             [
              1,
              "#f0f921"
             ]
            ],
            "type": "histogram2dcontour"
           }
          ],
          "mesh3d": [
           {
            "colorbar": {
             "outlinewidth": 0,
             "ticks": ""
            },
            "type": "mesh3d"
           }
          ],
          "parcoords": [
           {
            "line": {
             "colorbar": {
              "outlinewidth": 0,
              "ticks": ""
             }
            },
            "type": "parcoords"
           }
          ],
          "pie": [
           {
            "automargin": true,
            "type": "pie"
           }
          ],
          "scatter": [
           {
            "fillpattern": {
             "fillmode": "overlay",
             "size": 10,
             "solidity": 0.2
            },
            "type": "scatter"
           }
          ],
          "scatter3d": [
           {
            "line": {
             "colorbar": {
              "outlinewidth": 0,
              "ticks": ""
             }
            },
            "marker": {
             "colorbar": {
              "outlinewidth": 0,
              "ticks": ""
             }
            },
            "type": "scatter3d"
           }
          ],
          "scattercarpet": [
           {
            "marker": {
             "colorbar": {
              "outlinewidth": 0,
              "ticks": ""
             }
            },
            "type": "scattercarpet"
           }
          ],
          "scattergeo": [
           {
            "marker": {
             "colorbar": {
              "outlinewidth": 0,
              "ticks": ""
             }
            },
            "type": "scattergeo"
           }
          ],
          "scattergl": [
           {
            "marker": {
             "colorbar": {
              "outlinewidth": 0,
              "ticks": ""
             }
            },
            "type": "scattergl"
           }
          ],
          "scattermapbox": [
           {
            "marker": {
             "colorbar": {
              "outlinewidth": 0,
              "ticks": ""
             }
            },
            "type": "scattermapbox"
           }
          ],
          "scatterpolar": [
           {
            "marker": {
             "colorbar": {
              "outlinewidth": 0,
              "ticks": ""
             }
            },
            "type": "scatterpolar"
           }
          ],
          "scatterpolargl": [
           {
            "marker": {
             "colorbar": {
              "outlinewidth": 0,
              "ticks": ""
             }
            },
            "type": "scatterpolargl"
           }
          ],
          "scatterternary": [
           {
            "marker": {
             "colorbar": {
              "outlinewidth": 0,
              "ticks": ""
             }
            },
            "type": "scatterternary"
           }
          ],
          "surface": [
           {
            "colorbar": {
             "outlinewidth": 0,
             "ticks": ""
            },
            "colorscale": [
             [
              0,
              "#0d0887"
             ],
             [
              0.1111111111111111,
              "#46039f"
             ],
             [
              0.2222222222222222,
              "#7201a8"
             ],
             [
              0.3333333333333333,
              "#9c179e"
             ],
             [
              0.4444444444444444,
              "#bd3786"
             ],
             [
              0.5555555555555556,
              "#d8576b"
             ],
             [
              0.6666666666666666,
              "#ed7953"
             ],
             [
              0.7777777777777778,
              "#fb9f3a"
             ],
             [
              0.8888888888888888,
              "#fdca26"
             ],
             [
              1,
              "#f0f921"
             ]
            ],
            "type": "surface"
           }
          ],
          "table": [
           {
            "cells": {
             "fill": {
              "color": "#EBF0F8"
             },
             "line": {
              "color": "white"
             }
            },
            "header": {
             "fill": {
              "color": "#C8D4E3"
             },
             "line": {
              "color": "white"
             }
            },
            "type": "table"
           }
          ]
         },
         "layout": {
          "annotationdefaults": {
           "arrowcolor": "#2a3f5f",
           "arrowhead": 0,
           "arrowwidth": 1
          },
          "autotypenumbers": "strict",
          "coloraxis": {
           "colorbar": {
            "outlinewidth": 0,
            "ticks": ""
           }
          },
          "colorscale": {
           "diverging": [
            [
             0,
             "#8e0152"
            ],
            [
             0.1,
             "#c51b7d"
            ],
            [
             0.2,
             "#de77ae"
            ],
            [
             0.3,
             "#f1b6da"
            ],
            [
             0.4,
             "#fde0ef"
            ],
            [
             0.5,
             "#f7f7f7"
            ],
            [
             0.6,
             "#e6f5d0"
            ],
            [
             0.7,
             "#b8e186"
            ],
            [
             0.8,
             "#7fbc41"
            ],
            [
             0.9,
             "#4d9221"
            ],
            [
             1,
             "#276419"
            ]
           ],
           "sequential": [
            [
             0,
             "#0d0887"
            ],
            [
             0.1111111111111111,
             "#46039f"
            ],
            [
             0.2222222222222222,
             "#7201a8"
            ],
            [
             0.3333333333333333,
             "#9c179e"
            ],
            [
             0.4444444444444444,
             "#bd3786"
            ],
            [
             0.5555555555555556,
             "#d8576b"
            ],
            [
             0.6666666666666666,
             "#ed7953"
            ],
            [
             0.7777777777777778,
             "#fb9f3a"
            ],
            [
             0.8888888888888888,
             "#fdca26"
            ],
            [
             1,
             "#f0f921"
            ]
           ],
           "sequentialminus": [
            [
             0,
             "#0d0887"
            ],
            [
             0.1111111111111111,
             "#46039f"
            ],
            [
             0.2222222222222222,
             "#7201a8"
            ],
            [
             0.3333333333333333,
             "#9c179e"
            ],
            [
             0.4444444444444444,
             "#bd3786"
            ],
            [
             0.5555555555555556,
             "#d8576b"
            ],
            [
             0.6666666666666666,
             "#ed7953"
            ],
            [
             0.7777777777777778,
             "#fb9f3a"
            ],
            [
             0.8888888888888888,
             "#fdca26"
            ],
            [
             1,
             "#f0f921"
            ]
           ]
          },
          "colorway": [
           "#636efa",
           "#EF553B",
           "#00cc96",
           "#ab63fa",
           "#FFA15A",
           "#19d3f3",
           "#FF6692",
           "#B6E880",
           "#FF97FF",
           "#FECB52"
          ],
          "font": {
           "color": "#2a3f5f"
          },
          "geo": {
           "bgcolor": "white",
           "lakecolor": "white",
           "landcolor": "#E5ECF6",
           "showlakes": true,
           "showland": true,
           "subunitcolor": "white"
          },
          "hoverlabel": {
           "align": "left"
          },
          "hovermode": "closest",
          "mapbox": {
           "style": "light"
          },
          "paper_bgcolor": "white",
          "plot_bgcolor": "#E5ECF6",
          "polar": {
           "angularaxis": {
            "gridcolor": "white",
            "linecolor": "white",
            "ticks": ""
           },
           "bgcolor": "#E5ECF6",
           "radialaxis": {
            "gridcolor": "white",
            "linecolor": "white",
            "ticks": ""
           }
          },
          "scene": {
           "xaxis": {
            "backgroundcolor": "#E5ECF6",
            "gridcolor": "white",
            "gridwidth": 2,
            "linecolor": "white",
            "showbackground": true,
            "ticks": "",
            "zerolinecolor": "white"
           },
           "yaxis": {
            "backgroundcolor": "#E5ECF6",
            "gridcolor": "white",
            "gridwidth": 2,
            "linecolor": "white",
            "showbackground": true,
            "ticks": "",
            "zerolinecolor": "white"
           },
           "zaxis": {
            "backgroundcolor": "#E5ECF6",
            "gridcolor": "white",
            "gridwidth": 2,
            "linecolor": "white",
            "showbackground": true,
            "ticks": "",
            "zerolinecolor": "white"
           }
          },
          "shapedefaults": {
           "line": {
            "color": "#2a3f5f"
           }
          },
          "ternary": {
           "aaxis": {
            "gridcolor": "white",
            "linecolor": "white",
            "ticks": ""
           },
           "baxis": {
            "gridcolor": "white",
            "linecolor": "white",
            "ticks": ""
           },
           "bgcolor": "#E5ECF6",
           "caxis": {
            "gridcolor": "white",
            "linecolor": "white",
            "ticks": ""
           }
          },
          "title": {
           "x": 0.05
          },
          "xaxis": {
           "automargin": true,
           "gridcolor": "white",
           "linecolor": "white",
           "ticks": "",
           "title": {
            "standoff": 15
           },
           "zerolinecolor": "white",
           "zerolinewidth": 2
          },
          "yaxis": {
           "automargin": true,
           "gridcolor": "white",
           "linecolor": "white",
           "ticks": "",
           "title": {
            "standoff": 15
           },
           "zerolinecolor": "white",
           "zerolinewidth": 2
          }
         }
        },
        "title": {
         "text": "Avg Basesalary by Country from 2017 - 2021"
        },
        "width": 800,
        "xaxis": {
         "tickmode": "linear"
        }
       }
      },
      "text/html": [
       "<div>                            <div id=\"9a1dfa20-f1ff-48f4-adba-22e2ec7093da\" class=\"plotly-graph-div\" style=\"height:400px; width:800px;\"></div>            <script type=\"text/javascript\">                require([\"plotly\"], function(Plotly) {                    window.PLOTLYENV=window.PLOTLYENV || {};                                    if (document.getElementById(\"9a1dfa20-f1ff-48f4-adba-22e2ec7093da\")) {                    Plotly.newPlot(                        \"9a1dfa20-f1ff-48f4-adba-22e2ec7093da\",                        [{\"name\":\"Australia\",\"x\":[2017,2018,2019,2020,2021],\"y\":[168000.0,158566.28429499245,161988.96621894996,140738.24228028505,146180.92209856916],\"type\":\"scatter\"},{\"name\":\"Canada\",\"x\":[2017,2018,2019,2020,2021],\"y\":[null,142988.68330148715,141811.72854413185,129234.84848484848,138963.46153846153],\"type\":\"scatter\"},{\"name\":\"Germany\",\"x\":[2017,2018,2019,2020,2021],\"y\":[158577.3666029743,124389.41938605979,88227.31305905562,62575.2808988764,61892.49762583096],\"type\":\"scatter\"},{\"name\":\"India\",\"x\":[2017,2018,2019,2020,2021],\"y\":[138600.0,175259.93722492908,135559.797430998,128644.44444444444,143770.29702970298],\"type\":\"scatter\"},{\"name\":\"Ireland\",\"x\":[2017,2018,2019,2020,2021],\"y\":[null,190252.3666029743,182449.58157405478,173840.0,181738.46153846153],\"type\":\"scatter\"},{\"name\":\"Israel\",\"x\":[2017,2018,2019,2020,2021],\"y\":[null,134644.27997452306,145798.0648442079,143657.5,151028.0701754386],\"type\":\"scatter\"},{\"name\":\"Netherlands\",\"x\":[2017,2018,2019,2020,2021],\"y\":[null,73256.2099808923,58423.11388358119,48480.41237113402,55091.228070175435],\"type\":\"scatter\"},{\"name\":\"Russia\",\"x\":[2017,2018,2019,2020,2021],\"y\":[null,153070.4,181490.9090909091,168422.91666666666,157325.0],\"type\":\"scatter\"},{\"name\":\"Singapore\",\"x\":[2017,2018,2019,2020,2021],\"y\":[null,214631.1388358119,237682.28453731083,240240.0,249918.9189189189],\"type\":\"scatter\"},{\"name\":\"Switzerland\",\"x\":[2017,2018,2019,2020,2021],\"y\":[213791.73370606327,216183.8817366907,218292.3358583729,220039.9390556573,222929.34528134335],\"type\":\"scatter\"},{\"name\":\"USA\",\"x\":[2017,2018,2019,2020,2021],\"y\":[196377.3666029743,187892.59281619778,146984.3965131816,150279.3220338983,159803.2258064516],\"type\":\"scatter\"}],                        {\"template\":{\"data\":{\"histogram2dcontour\":[{\"type\":\"histogram2dcontour\",\"colorbar\":{\"outlinewidth\":0,\"ticks\":\"\"},\"colorscale\":[[0.0,\"#0d0887\"],[0.1111111111111111,\"#46039f\"],[0.2222222222222222,\"#7201a8\"],[0.3333333333333333,\"#9c179e\"],[0.4444444444444444,\"#bd3786\"],[0.5555555555555556,\"#d8576b\"],[0.6666666666666666,\"#ed7953\"],[0.7777777777777778,\"#fb9f3a\"],[0.8888888888888888,\"#fdca26\"],[1.0,\"#f0f921\"]]}],\"choropleth\":[{\"type\":\"choropleth\",\"colorbar\":{\"outlinewidth\":0,\"ticks\":\"\"}}],\"histogram2d\":[{\"type\":\"histogram2d\",\"colorbar\":{\"outlinewidth\":0,\"ticks\":\"\"},\"colorscale\":[[0.0,\"#0d0887\"],[0.1111111111111111,\"#46039f\"],[0.2222222222222222,\"#7201a8\"],[0.3333333333333333,\"#9c179e\"],[0.4444444444444444,\"#bd3786\"],[0.5555555555555556,\"#d8576b\"],[0.6666666666666666,\"#ed7953\"],[0.7777777777777778,\"#fb9f3a\"],[0.8888888888888888,\"#fdca26\"],[1.0,\"#f0f921\"]]}],\"heatmap\":[{\"type\":\"heatmap\",\"colorbar\":{\"outlinewidth\":0,\"ticks\":\"\"},\"colorscale\":[[0.0,\"#0d0887\"],[0.1111111111111111,\"#46039f\"],[0.2222222222222222,\"#7201a8\"],[0.3333333333333333,\"#9c179e\"],[0.4444444444444444,\"#bd3786\"],[0.5555555555555556,\"#d8576b\"],[0.6666666666666666,\"#ed7953\"],[0.7777777777777778,\"#fb9f3a\"],[0.8888888888888888,\"#fdca26\"],[1.0,\"#f0f921\"]]}],\"heatmapgl\":[{\"type\":\"heatmapgl\",\"colorbar\":{\"outlinewidth\":0,\"ticks\":\"\"},\"colorscale\":[[0.0,\"#0d0887\"],[0.1111111111111111,\"#46039f\"],[0.2222222222222222,\"#7201a8\"],[0.3333333333333333,\"#9c179e\"],[0.4444444444444444,\"#bd3786\"],[0.5555555555555556,\"#d8576b\"],[0.6666666666666666,\"#ed7953\"],[0.7777777777777778,\"#fb9f3a\"],[0.8888888888888888,\"#fdca26\"],[1.0,\"#f0f921\"]]}],\"contourcarpet\":[{\"type\":\"contourcarpet\",\"colorbar\":{\"outlinewidth\":0,\"ticks\":\"\"}}],\"contour\":[{\"type\":\"contour\",\"colorbar\":{\"outlinewidth\":0,\"ticks\":\"\"},\"colorscale\":[[0.0,\"#0d0887\"],[0.1111111111111111,\"#46039f\"],[0.2222222222222222,\"#7201a8\"],[0.3333333333333333,\"#9c179e\"],[0.4444444444444444,\"#bd3786\"],[0.5555555555555556,\"#d8576b\"],[0.6666666666666666,\"#ed7953\"],[0.7777777777777778,\"#fb9f3a\"],[0.8888888888888888,\"#fdca26\"],[1.0,\"#f0f921\"]]}],\"surface\":[{\"type\":\"surface\",\"colorbar\":{\"outlinewidth\":0,\"ticks\":\"\"},\"colorscale\":[[0.0,\"#0d0887\"],[0.1111111111111111,\"#46039f\"],[0.2222222222222222,\"#7201a8\"],[0.3333333333333333,\"#9c179e\"],[0.4444444444444444,\"#bd3786\"],[0.5555555555555556,\"#d8576b\"],[0.6666666666666666,\"#ed7953\"],[0.7777777777777778,\"#fb9f3a\"],[0.8888888888888888,\"#fdca26\"],[1.0,\"#f0f921\"]]}],\"mesh3d\":[{\"type\":\"mesh3d\",\"colorbar\":{\"outlinewidth\":0,\"ticks\":\"\"}}],\"scatter\":[{\"fillpattern\":{\"fillmode\":\"overlay\",\"size\":10,\"solidity\":0.2},\"type\":\"scatter\"}],\"parcoords\":[{\"type\":\"parcoords\",\"line\":{\"colorbar\":{\"outlinewidth\":0,\"ticks\":\"\"}}}],\"scatterpolargl\":[{\"type\":\"scatterpolargl\",\"marker\":{\"colorbar\":{\"outlinewidth\":0,\"ticks\":\"\"}}}],\"bar\":[{\"error_x\":{\"color\":\"#2a3f5f\"},\"error_y\":{\"color\":\"#2a3f5f\"},\"marker\":{\"line\":{\"color\":\"#E5ECF6\",\"width\":0.5},\"pattern\":{\"fillmode\":\"overlay\",\"size\":10,\"solidity\":0.2}},\"type\":\"bar\"}],\"scattergeo\":[{\"type\":\"scattergeo\",\"marker\":{\"colorbar\":{\"outlinewidth\":0,\"ticks\":\"\"}}}],\"scatterpolar\":[{\"type\":\"scatterpolar\",\"marker\":{\"colorbar\":{\"outlinewidth\":0,\"ticks\":\"\"}}}],\"histogram\":[{\"marker\":{\"pattern\":{\"fillmode\":\"overlay\",\"size\":10,\"solidity\":0.2}},\"type\":\"histogram\"}],\"scattergl\":[{\"type\":\"scattergl\",\"marker\":{\"colorbar\":{\"outlinewidth\":0,\"ticks\":\"\"}}}],\"scatter3d\":[{\"type\":\"scatter3d\",\"line\":{\"colorbar\":{\"outlinewidth\":0,\"ticks\":\"\"}},\"marker\":{\"colorbar\":{\"outlinewidth\":0,\"ticks\":\"\"}}}],\"scattermapbox\":[{\"type\":\"scattermapbox\",\"marker\":{\"colorbar\":{\"outlinewidth\":0,\"ticks\":\"\"}}}],\"scatterternary\":[{\"type\":\"scatterternary\",\"marker\":{\"colorbar\":{\"outlinewidth\":0,\"ticks\":\"\"}}}],\"scattercarpet\":[{\"type\":\"scattercarpet\",\"marker\":{\"colorbar\":{\"outlinewidth\":0,\"ticks\":\"\"}}}],\"carpet\":[{\"aaxis\":{\"endlinecolor\":\"#2a3f5f\",\"gridcolor\":\"white\",\"linecolor\":\"white\",\"minorgridcolor\":\"white\",\"startlinecolor\":\"#2a3f5f\"},\"baxis\":{\"endlinecolor\":\"#2a3f5f\",\"gridcolor\":\"white\",\"linecolor\":\"white\",\"minorgridcolor\":\"white\",\"startlinecolor\":\"#2a3f5f\"},\"type\":\"carpet\"}],\"table\":[{\"cells\":{\"fill\":{\"color\":\"#EBF0F8\"},\"line\":{\"color\":\"white\"}},\"header\":{\"fill\":{\"color\":\"#C8D4E3\"},\"line\":{\"color\":\"white\"}},\"type\":\"table\"}],\"barpolar\":[{\"marker\":{\"line\":{\"color\":\"#E5ECF6\",\"width\":0.5},\"pattern\":{\"fillmode\":\"overlay\",\"size\":10,\"solidity\":0.2}},\"type\":\"barpolar\"}],\"pie\":[{\"automargin\":true,\"type\":\"pie\"}]},\"layout\":{\"autotypenumbers\":\"strict\",\"colorway\":[\"#636efa\",\"#EF553B\",\"#00cc96\",\"#ab63fa\",\"#FFA15A\",\"#19d3f3\",\"#FF6692\",\"#B6E880\",\"#FF97FF\",\"#FECB52\"],\"font\":{\"color\":\"#2a3f5f\"},\"hovermode\":\"closest\",\"hoverlabel\":{\"align\":\"left\"},\"paper_bgcolor\":\"white\",\"plot_bgcolor\":\"#E5ECF6\",\"polar\":{\"bgcolor\":\"#E5ECF6\",\"angularaxis\":{\"gridcolor\":\"white\",\"linecolor\":\"white\",\"ticks\":\"\"},\"radialaxis\":{\"gridcolor\":\"white\",\"linecolor\":\"white\",\"ticks\":\"\"}},\"ternary\":{\"bgcolor\":\"#E5ECF6\",\"aaxis\":{\"gridcolor\":\"white\",\"linecolor\":\"white\",\"ticks\":\"\"},\"baxis\":{\"gridcolor\":\"white\",\"linecolor\":\"white\",\"ticks\":\"\"},\"caxis\":{\"gridcolor\":\"white\",\"linecolor\":\"white\",\"ticks\":\"\"}},\"coloraxis\":{\"colorbar\":{\"outlinewidth\":0,\"ticks\":\"\"}},\"colorscale\":{\"sequential\":[[0.0,\"#0d0887\"],[0.1111111111111111,\"#46039f\"],[0.2222222222222222,\"#7201a8\"],[0.3333333333333333,\"#9c179e\"],[0.4444444444444444,\"#bd3786\"],[0.5555555555555556,\"#d8576b\"],[0.6666666666666666,\"#ed7953\"],[0.7777777777777778,\"#fb9f3a\"],[0.8888888888888888,\"#fdca26\"],[1.0,\"#f0f921\"]],\"sequentialminus\":[[0.0,\"#0d0887\"],[0.1111111111111111,\"#46039f\"],[0.2222222222222222,\"#7201a8\"],[0.3333333333333333,\"#9c179e\"],[0.4444444444444444,\"#bd3786\"],[0.5555555555555556,\"#d8576b\"],[0.6666666666666666,\"#ed7953\"],[0.7777777777777778,\"#fb9f3a\"],[0.8888888888888888,\"#fdca26\"],[1.0,\"#f0f921\"]],\"diverging\":[[0,\"#8e0152\"],[0.1,\"#c51b7d\"],[0.2,\"#de77ae\"],[0.3,\"#f1b6da\"],[0.4,\"#fde0ef\"],[0.5,\"#f7f7f7\"],[0.6,\"#e6f5d0\"],[0.7,\"#b8e186\"],[0.8,\"#7fbc41\"],[0.9,\"#4d9221\"],[1,\"#276419\"]]},\"xaxis\":{\"gridcolor\":\"white\",\"linecolor\":\"white\",\"ticks\":\"\",\"title\":{\"standoff\":15},\"zerolinecolor\":\"white\",\"automargin\":true,\"zerolinewidth\":2},\"yaxis\":{\"gridcolor\":\"white\",\"linecolor\":\"white\",\"ticks\":\"\",\"title\":{\"standoff\":15},\"zerolinecolor\":\"white\",\"automargin\":true,\"zerolinewidth\":2},\"scene\":{\"xaxis\":{\"backgroundcolor\":\"#E5ECF6\",\"gridcolor\":\"white\",\"linecolor\":\"white\",\"showbackground\":true,\"ticks\":\"\",\"zerolinecolor\":\"white\",\"gridwidth\":2},\"yaxis\":{\"backgroundcolor\":\"#E5ECF6\",\"gridcolor\":\"white\",\"linecolor\":\"white\",\"showbackground\":true,\"ticks\":\"\",\"zerolinecolor\":\"white\",\"gridwidth\":2},\"zaxis\":{\"backgroundcolor\":\"#E5ECF6\",\"gridcolor\":\"white\",\"linecolor\":\"white\",\"showbackground\":true,\"ticks\":\"\",\"zerolinecolor\":\"white\",\"gridwidth\":2}},\"shapedefaults\":{\"line\":{\"color\":\"#2a3f5f\"}},\"annotationdefaults\":{\"arrowcolor\":\"#2a3f5f\",\"arrowhead\":0,\"arrowwidth\":1},\"geo\":{\"bgcolor\":\"white\",\"landcolor\":\"#E5ECF6\",\"subunitcolor\":\"white\",\"showland\":true,\"showlakes\":true,\"lakecolor\":\"white\"},\"title\":{\"x\":0.05},\"mapbox\":{\"style\":\"light\"}}},\"xaxis\":{\"tickmode\":\"linear\"},\"autosize\":false,\"width\":800,\"height\":400,\"title\":{\"text\":\"Avg Basesalary by Country from 2017 - 2021\"}},                        {\"responsive\": true}                    ).then(function(){\n",
       "                            \n",
       "var gd = document.getElementById('9a1dfa20-f1ff-48f4-adba-22e2ec7093da');\n",
       "var x = new MutationObserver(function (mutations, observer) {{\n",
       "        var display = window.getComputedStyle(gd).display;\n",
       "        if (!display || display === 'none') {{\n",
       "            console.log([gd, 'removed!']);\n",
       "            Plotly.purge(gd);\n",
       "            observer.disconnect();\n",
       "        }}\n",
       "}});\n",
       "\n",
       "// Listen for the removal of the full notebook cells\n",
       "var notebookContainer = gd.closest('#notebook-container');\n",
       "if (notebookContainer) {{\n",
       "    x.observe(notebookContainer, {childList: true});\n",
       "}}\n",
       "\n",
       "// Listen for the clearing of the current output cell\n",
       "var outputEl = gd.closest('.output');\n",
       "if (outputEl) {{\n",
       "    x.observe(outputEl, {childList: true});\n",
       "}}\n",
       "\n",
       "                        })                };                });            </script>        </div>"
      ]
     },
     "metadata": {},
     "output_type": "display_data"
    }
   ],
   "source": [
    "fig_basesalary_country = go.Figure()\n",
    "\n",
    "for i in range(2, 13):\n",
    "    fig_basesalary_country.add_trace(go.Scatter(\n",
    "    \n",
    "    x = basesalary_country_transposed['Year'],\n",
    "    y = basesalary_country_transposed.iloc[:,i],\n",
    "    \n",
    "    name = basesalary_country_transposed.columns[i-1],\n",
    "))\n",
    "\n",
    "fig_basesalary_country.update_layout(xaxis = dict(\n",
    "                                    tickmode = 'linear'),\n",
    "                                    autosize = False,\n",
    "                                    width = 800,\n",
    "                                    height = 400,\n",
    "                                    title = 'Avg Basesalary by Country from 2017 - 2021'\n",
    ")\n",
    "\n",
    "fig_basesalary_country.show()"
   ]
  },
  {
   "cell_type": "markdown",
   "metadata": {},
   "source": [
    "# Top 5 Companies in terms of base salary, Yearly compensation, Years at company"
   ]
  },
  {
   "cell_type": "code",
   "execution_count": 116,
   "metadata": {},
   "outputs": [
    {
     "data": {
      "text/html": [
       "<div>\n",
       "<style scoped>\n",
       "    .dataframe tbody tr th:only-of-type {\n",
       "        vertical-align: middle;\n",
       "    }\n",
       "\n",
       "    .dataframe tbody tr th {\n",
       "        vertical-align: top;\n",
       "    }\n",
       "\n",
       "    .dataframe thead th {\n",
       "        text-align: right;\n",
       "    }\n",
       "</style>\n",
       "<table border=\"1\" class=\"dataframe\">\n",
       "  <thead>\n",
       "    <tr style=\"text-align: right;\">\n",
       "      <th></th>\n",
       "      <th>company</th>\n",
       "      <th>Unnamed: 0.1</th>\n",
       "      <th>Unnamed: 0</th>\n",
       "      <th>totalyearlycompensation</th>\n",
       "      <th>yearsofexperience</th>\n",
       "      <th>yearsatcompany</th>\n",
       "      <th>basesalary</th>\n",
       "      <th>stockgrantvalue</th>\n",
       "      <th>bonus</th>\n",
       "    </tr>\n",
       "  </thead>\n",
       "  <tbody>\n",
       "    <tr>\n",
       "      <th>0</th>\n",
       "      <td>Netflix</td>\n",
       "      <td>29538.805970</td>\n",
       "      <td>29538.805970</td>\n",
       "      <td>481376.865672</td>\n",
       "      <td>9.772388</td>\n",
       "      <td>2.583209</td>\n",
       "      <td>632453.267654</td>\n",
       "      <td>11045.708955</td>\n",
       "      <td>1291.044776</td>\n",
       "    </tr>\n",
       "    <tr>\n",
       "      <th>1</th>\n",
       "      <td>Box</td>\n",
       "      <td>28632.936364</td>\n",
       "      <td>28632.936364</td>\n",
       "      <td>302809.090909</td>\n",
       "      <td>9.345455</td>\n",
       "      <td>2.218182</td>\n",
       "      <td>280454.306055</td>\n",
       "      <td>88784.090909</td>\n",
       "      <td>7027.272727</td>\n",
       "    </tr>\n",
       "    <tr>\n",
       "      <th>2</th>\n",
       "      <td>Cruise</td>\n",
       "      <td>29359.500000</td>\n",
       "      <td>29359.500000</td>\n",
       "      <td>343219.827586</td>\n",
       "      <td>6.327586</td>\n",
       "      <td>1.146552</td>\n",
       "      <td>270889.818386</td>\n",
       "      <td>91344.827586</td>\n",
       "      <td>57025.862069</td>\n",
       "    </tr>\n",
       "    <tr>\n",
       "      <th>3</th>\n",
       "      <td>DoorDash</td>\n",
       "      <td>36870.094488</td>\n",
       "      <td>36870.094488</td>\n",
       "      <td>314692.913386</td>\n",
       "      <td>5.921260</td>\n",
       "      <td>0.568504</td>\n",
       "      <td>258741.375852</td>\n",
       "      <td>122692.913386</td>\n",
       "      <td>7314.960630</td>\n",
       "    </tr>\n",
       "    <tr>\n",
       "      <th>4</th>\n",
       "      <td>Airbnb</td>\n",
       "      <td>22162.964758</td>\n",
       "      <td>22162.964758</td>\n",
       "      <td>361832.599119</td>\n",
       "      <td>6.435242</td>\n",
       "      <td>1.470485</td>\n",
       "      <td>255237.936263</td>\n",
       "      <td>151863.436123</td>\n",
       "      <td>28986.233480</td>\n",
       "    </tr>\n",
       "  </tbody>\n",
       "</table>\n",
       "</div>"
      ],
      "text/plain": [
       "    company  Unnamed: 0.1    Unnamed: 0  totalyearlycompensation  \\\n",
       "0   Netflix  29538.805970  29538.805970            481376.865672   \n",
       "1       Box  28632.936364  28632.936364            302809.090909   \n",
       "2    Cruise  29359.500000  29359.500000            343219.827586   \n",
       "3  DoorDash  36870.094488  36870.094488            314692.913386   \n",
       "4    Airbnb  22162.964758  22162.964758            361832.599119   \n",
       "\n",
       "   yearsofexperience  yearsatcompany     basesalary  stockgrantvalue  \\\n",
       "0           9.772388        2.583209  632453.267654     11045.708955   \n",
       "1           9.345455        2.218182  280454.306055     88784.090909   \n",
       "2           6.327586        1.146552  270889.818386     91344.827586   \n",
       "3           5.921260        0.568504  258741.375852    122692.913386   \n",
       "4           6.435242        1.470485  255237.936263    151863.436123   \n",
       "\n",
       "          bonus  \n",
       "0   1291.044776  \n",
       "1   7027.272727  \n",
       "2  57025.862069  \n",
       "3   7314.960630  \n",
       "4  28986.233480  "
      ]
     },
     "execution_count": 116,
     "metadata": {},
     "output_type": "execute_result"
    }
   ],
   "source": [
    "#Top 5 companies\n",
    "\n",
    "# df_best_paying_company.head(5)"
   ]
  },
  {
   "cell_type": "code",
   "execution_count": 121,
   "metadata": {},
   "outputs": [
    {
     "data": {
      "text/html": [
       "<div>\n",
       "<style scoped>\n",
       "    .dataframe tbody tr th:only-of-type {\n",
       "        vertical-align: middle;\n",
       "    }\n",
       "\n",
       "    .dataframe tbody tr th {\n",
       "        vertical-align: top;\n",
       "    }\n",
       "\n",
       "    .dataframe thead th {\n",
       "        text-align: right;\n",
       "    }\n",
       "</style>\n",
       "<table border=\"1\" class=\"dataframe\">\n",
       "  <thead>\n",
       "    <tr style=\"text-align: right;\">\n",
       "      <th></th>\n",
       "      <th>company</th>\n",
       "      <th>totalyearlycompensation</th>\n",
       "      <th>yearsatcompany</th>\n",
       "    </tr>\n",
       "  </thead>\n",
       "  <tbody>\n",
       "    <tr>\n",
       "      <th>0</th>\n",
       "      <td>Netflix</td>\n",
       "      <td>481376.865672</td>\n",
       "      <td>2.583209</td>\n",
       "    </tr>\n",
       "    <tr>\n",
       "      <th>4</th>\n",
       "      <td>Airbnb</td>\n",
       "      <td>361832.599119</td>\n",
       "      <td>1.470485</td>\n",
       "    </tr>\n",
       "    <tr>\n",
       "      <th>2</th>\n",
       "      <td>Cruise</td>\n",
       "      <td>343219.827586</td>\n",
       "      <td>1.146552</td>\n",
       "    </tr>\n",
       "    <tr>\n",
       "      <th>3</th>\n",
       "      <td>DoorDash</td>\n",
       "      <td>314692.913386</td>\n",
       "      <td>0.568504</td>\n",
       "    </tr>\n",
       "    <tr>\n",
       "      <th>1</th>\n",
       "      <td>Box</td>\n",
       "      <td>302809.090909</td>\n",
       "      <td>2.218182</td>\n",
       "    </tr>\n",
       "  </tbody>\n",
       "</table>\n",
       "</div>"
      ],
      "text/plain": [
       "    company  totalyearlycompensation  yearsatcompany\n",
       "0   Netflix            481376.865672        2.583209\n",
       "4    Airbnb            361832.599119        1.470485\n",
       "2    Cruise            343219.827586        1.146552\n",
       "3  DoorDash            314692.913386        0.568504\n",
       "1       Box            302809.090909        2.218182"
      ]
     },
     "execution_count": 121,
     "metadata": {},
     "output_type": "execute_result"
    }
   ],
   "source": [
    "# yearlycompensation_yearsatcompany = df_best_paying_company.head(5).filter(items = ['company','totalyearlycompensation', 'yearsatcompany']).sort_values(by='totalyearlycompensation', ascending = False)\n",
    "\n",
    "# yearlycompensation_yearsatcompany"
   ]
  },
  {
   "cell_type": "code",
   "execution_count": null,
   "metadata": {},
   "outputs": [],
   "source": [
    "# import plotly.express as px\n",
    "\n",
    "# yearlycompensation_3d = px.scatter_3d(yearlycompensation_yearsatcompany, x='yearsatcompany', y='totalyearlycompensation', z='company',\n",
    "#               color='company')\n",
    "\n",
    "# yearlycompensation_3d.update_layout(margin = dict(l = 0, r =0, b = 0, t = 0))\n",
    "\n",
    "# yearlycompensation_3d.show()"
   ]
  },
  {
   "cell_type": "markdown",
   "metadata": {},
   "source": [
    "# Avg employees salary vs Country (with dropdown Company function)"
   ]
  },
  {
   "cell_type": "code",
   "execution_count": 166,
   "metadata": {},
   "outputs": [
    {
     "data": {
      "text/html": [
       "<div>\n",
       "<style scoped>\n",
       "    .dataframe tbody tr th:only-of-type {\n",
       "        vertical-align: middle;\n",
       "    }\n",
       "\n",
       "    .dataframe tbody tr th {\n",
       "        vertical-align: top;\n",
       "    }\n",
       "\n",
       "    .dataframe thead th {\n",
       "        text-align: right;\n",
       "    }\n",
       "</style>\n",
       "<table border=\"1\" class=\"dataframe\">\n",
       "  <thead>\n",
       "    <tr style=\"text-align: right;\">\n",
       "      <th>company</th>\n",
       "      <th>Country</th>\n",
       "      <th>Amazon</th>\n",
       "      <th>Google</th>\n",
       "      <th>IBM</th>\n",
       "      <th>Microsoft</th>\n",
       "      <th>SAP</th>\n",
       "    </tr>\n",
       "  </thead>\n",
       "  <tbody>\n",
       "    <tr>\n",
       "      <th>0</th>\n",
       "      <td>Australia</td>\n",
       "      <td>181502.606343</td>\n",
       "      <td>162526.498540</td>\n",
       "      <td>171500.000000</td>\n",
       "      <td>156162.894434</td>\n",
       "      <td>206500.000000</td>\n",
       "    </tr>\n",
       "    <tr>\n",
       "      <th>1</th>\n",
       "      <td>Canada</td>\n",
       "      <td>157830.239324</td>\n",
       "      <td>156226.498540</td>\n",
       "      <td>133587.357382</td>\n",
       "      <td>142803.091003</td>\n",
       "      <td>135162.673860</td>\n",
       "    </tr>\n",
       "    <tr>\n",
       "      <th>2</th>\n",
       "      <td>Germany</td>\n",
       "      <td>131994.569466</td>\n",
       "      <td>156846.666667</td>\n",
       "      <td>122000.000000</td>\n",
       "      <td>150400.000000</td>\n",
       "      <td>109202.958552</td>\n",
       "    </tr>\n",
       "    <tr>\n",
       "      <th>3</th>\n",
       "      <td>India</td>\n",
       "      <td>71750.034734</td>\n",
       "      <td>64525.839297</td>\n",
       "      <td>58450.000000</td>\n",
       "      <td>61617.097516</td>\n",
       "      <td>50824.242424</td>\n",
       "    </tr>\n",
       "    <tr>\n",
       "      <th>4</th>\n",
       "      <td>Ireland</td>\n",
       "      <td>139211.979892</td>\n",
       "      <td>151289.780550</td>\n",
       "      <td>101400.000000</td>\n",
       "      <td>145205.157774</td>\n",
       "      <td>65100.000000</td>\n",
       "    </tr>\n",
       "    <tr>\n",
       "      <th>5</th>\n",
       "      <td>Israel</td>\n",
       "      <td>174600.000000</td>\n",
       "      <td>205357.894737</td>\n",
       "      <td>192362.688846</td>\n",
       "      <td>183184.615385</td>\n",
       "      <td>147700.000000</td>\n",
       "    </tr>\n",
       "    <tr>\n",
       "      <th>6</th>\n",
       "      <td>Netherlands</td>\n",
       "      <td>144316.666667</td>\n",
       "      <td>100100.000000</td>\n",
       "      <td>NaN</td>\n",
       "      <td>175000.000000</td>\n",
       "      <td>NaN</td>\n",
       "    </tr>\n",
       "    <tr>\n",
       "      <th>7</th>\n",
       "      <td>Russia</td>\n",
       "      <td>NaN</td>\n",
       "      <td>NaN</td>\n",
       "      <td>49000.000000</td>\n",
       "      <td>82600.000000</td>\n",
       "      <td>91700.000000</td>\n",
       "    </tr>\n",
       "    <tr>\n",
       "      <th>8</th>\n",
       "      <td>Singapore</td>\n",
       "      <td>215133.333333</td>\n",
       "      <td>181611.111111</td>\n",
       "      <td>56000.000000</td>\n",
       "      <td>214550.000000</td>\n",
       "      <td>196000.000000</td>\n",
       "    </tr>\n",
       "    <tr>\n",
       "      <th>9</th>\n",
       "      <td>Switzerland</td>\n",
       "      <td>210000.000000</td>\n",
       "      <td>245160.671256</td>\n",
       "      <td>248733.333333</td>\n",
       "      <td>214550.000000</td>\n",
       "      <td>126000.000000</td>\n",
       "    </tr>\n",
       "    <tr>\n",
       "      <th>10</th>\n",
       "      <td>USA</td>\n",
       "      <td>201722.955792</td>\n",
       "      <td>224626.243043</td>\n",
       "      <td>198139.435711</td>\n",
       "      <td>211895.765438</td>\n",
       "      <td>198964.111011</td>\n",
       "    </tr>\n",
       "    <tr>\n",
       "      <th>11</th>\n",
       "      <td>United Kingdom</td>\n",
       "      <td>128054.955058</td>\n",
       "      <td>163821.877471</td>\n",
       "      <td>143707.819029</td>\n",
       "      <td>167363.374506</td>\n",
       "      <td>181300.000000</td>\n",
       "    </tr>\n",
       "  </tbody>\n",
       "</table>\n",
       "</div>"
      ],
      "text/plain": [
       "company         Country         Amazon         Google            IBM  \\\n",
       "0             Australia  181502.606343  162526.498540  171500.000000   \n",
       "1                Canada  157830.239324  156226.498540  133587.357382   \n",
       "2               Germany  131994.569466  156846.666667  122000.000000   \n",
       "3                 India   71750.034734   64525.839297   58450.000000   \n",
       "4               Ireland  139211.979892  151289.780550  101400.000000   \n",
       "5                Israel  174600.000000  205357.894737  192362.688846   \n",
       "6           Netherlands  144316.666667  100100.000000            NaN   \n",
       "7                Russia            NaN            NaN   49000.000000   \n",
       "8             Singapore  215133.333333  181611.111111   56000.000000   \n",
       "9           Switzerland  210000.000000  245160.671256  248733.333333   \n",
       "10                  USA  201722.955792  224626.243043  198139.435711   \n",
       "11       United Kingdom  128054.955058  163821.877471  143707.819029   \n",
       "\n",
       "company      Microsoft            SAP  \n",
       "0        156162.894434  206500.000000  \n",
       "1        142803.091003  135162.673860  \n",
       "2        150400.000000  109202.958552  \n",
       "3         61617.097516   50824.242424  \n",
       "4        145205.157774   65100.000000  \n",
       "5        183184.615385  147700.000000  \n",
       "6        175000.000000            NaN  \n",
       "7         82600.000000   91700.000000  \n",
       "8        214550.000000  196000.000000  \n",
       "9        214550.000000  126000.000000  \n",
       "10       211895.765438  198964.111011  \n",
       "11       167363.374506  181300.000000  "
      ]
     },
     "execution_count": 166,
     "metadata": {},
     "output_type": "execute_result"
    }
   ],
   "source": [
    "SG_vs_overseas = pd.pivot_table(df_data_science_salaries_plot, values = 'basesalary', index= 'Country', columns= 'company', aggfunc= np.mean)\n",
    "\n",
    "SG_vs_overseas.reset_index(inplace=True)\n",
    "\n",
    "SG_vs_overseas_11 = SG_vs_overseas.dropna(axis = 1, thresh=11)\n",
    "\n",
    "SG_vs_overseas_11"
   ]
  },
  {
   "cell_type": "code",
   "execution_count": 170,
   "metadata": {},
   "outputs": [
    {
     "data": {
      "application/vnd.plotly.v1+json": {
       "config": {
        "plotlyServerURL": "https://plot.ly"
       },
       "data": [
        {
         "type": "bar",
         "x": [
          "Australia",
          "Canada",
          "Germany",
          "India",
          "Ireland",
          "Israel",
          "Netherlands",
          "Russia",
          "Singapore",
          "Switzerland",
          "USA",
          "United Kingdom"
         ],
         "y": [
          181502.60634314042,
          157830.23932407706,
          131994.56946564294,
          71750.03473396787,
          139211.9798921579,
          174600,
          144316.66666666666,
          null,
          215133.33333333334,
          210000,
          201722.95579235972,
          128054.95505795404
         ]
        }
       ],
       "layout": {
        "barmode": "stack",
        "showlegend": false,
        "template": {
         "data": {
          "bar": [
           {
            "error_x": {
             "color": "#2a3f5f"
            },
            "error_y": {
             "color": "#2a3f5f"
            },
            "marker": {
             "line": {
              "color": "#E5ECF6",
              "width": 0.5
             },
             "pattern": {
              "fillmode": "overlay",
              "size": 10,
              "solidity": 0.2
             }
            },
            "type": "bar"
           }
          ],
          "barpolar": [
           {
            "marker": {
             "line": {
              "color": "#E5ECF6",
              "width": 0.5
             },
             "pattern": {
              "fillmode": "overlay",
              "size": 10,
              "solidity": 0.2
             }
            },
            "type": "barpolar"
           }
          ],
          "carpet": [
           {
            "aaxis": {
             "endlinecolor": "#2a3f5f",
             "gridcolor": "white",
             "linecolor": "white",
             "minorgridcolor": "white",
             "startlinecolor": "#2a3f5f"
            },
            "baxis": {
             "endlinecolor": "#2a3f5f",
             "gridcolor": "white",
             "linecolor": "white",
             "minorgridcolor": "white",
             "startlinecolor": "#2a3f5f"
            },
            "type": "carpet"
           }
          ],
          "choropleth": [
           {
            "colorbar": {
             "outlinewidth": 0,
             "ticks": ""
            },
            "type": "choropleth"
           }
          ],
          "contour": [
           {
            "colorbar": {
             "outlinewidth": 0,
             "ticks": ""
            },
            "colorscale": [
             [
              0,
              "#0d0887"
             ],
             [
              0.1111111111111111,
              "#46039f"
             ],
             [
              0.2222222222222222,
              "#7201a8"
             ],
             [
              0.3333333333333333,
              "#9c179e"
             ],
             [
              0.4444444444444444,
              "#bd3786"
             ],
             [
              0.5555555555555556,
              "#d8576b"
             ],
             [
              0.6666666666666666,
              "#ed7953"
             ],
             [
              0.7777777777777778,
              "#fb9f3a"
             ],
             [
              0.8888888888888888,
              "#fdca26"
             ],
             [
              1,
              "#f0f921"
             ]
            ],
            "type": "contour"
           }
          ],
          "contourcarpet": [
           {
            "colorbar": {
             "outlinewidth": 0,
             "ticks": ""
            },
            "type": "contourcarpet"
           }
          ],
          "heatmap": [
           {
            "colorbar": {
             "outlinewidth": 0,
             "ticks": ""
            },
            "colorscale": [
             [
              0,
              "#0d0887"
             ],
             [
              0.1111111111111111,
              "#46039f"
             ],
             [
              0.2222222222222222,
              "#7201a8"
             ],
             [
              0.3333333333333333,
              "#9c179e"
             ],
             [
              0.4444444444444444,
              "#bd3786"
             ],
             [
              0.5555555555555556,
              "#d8576b"
             ],
             [
              0.6666666666666666,
              "#ed7953"
             ],
             [
              0.7777777777777778,
              "#fb9f3a"
             ],
             [
              0.8888888888888888,
              "#fdca26"
             ],
             [
              1,
              "#f0f921"
             ]
            ],
            "type": "heatmap"
           }
          ],
          "heatmapgl": [
           {
            "colorbar": {
             "outlinewidth": 0,
             "ticks": ""
            },
            "colorscale": [
             [
              0,
              "#0d0887"
             ],
             [
              0.1111111111111111,
              "#46039f"
             ],
             [
              0.2222222222222222,
              "#7201a8"
             ],
             [
              0.3333333333333333,
              "#9c179e"
             ],
             [
              0.4444444444444444,
              "#bd3786"
             ],
             [
              0.5555555555555556,
              "#d8576b"
             ],
             [
              0.6666666666666666,
              "#ed7953"
             ],
             [
              0.7777777777777778,
              "#fb9f3a"
             ],
             [
              0.8888888888888888,
              "#fdca26"
             ],
             [
              1,
              "#f0f921"
             ]
            ],
            "type": "heatmapgl"
           }
          ],
          "histogram": [
           {
            "marker": {
             "pattern": {
              "fillmode": "overlay",
              "size": 10,
              "solidity": 0.2
             }
            },
            "type": "histogram"
           }
          ],
          "histogram2d": [
           {
            "colorbar": {
             "outlinewidth": 0,
             "ticks": ""
            },
            "colorscale": [
             [
              0,
              "#0d0887"
             ],
             [
              0.1111111111111111,
              "#46039f"
             ],
             [
              0.2222222222222222,
              "#7201a8"
             ],
             [
              0.3333333333333333,
              "#9c179e"
             ],
             [
              0.4444444444444444,
              "#bd3786"
             ],
             [
              0.5555555555555556,
              "#d8576b"
             ],
             [
              0.6666666666666666,
              "#ed7953"
             ],
             [
              0.7777777777777778,
              "#fb9f3a"
             ],
             [
              0.8888888888888888,
              "#fdca26"
             ],
             [
              1,
              "#f0f921"
             ]
            ],
            "type": "histogram2d"
           }
          ],
          "histogram2dcontour": [
           {
            "colorbar": {
             "outlinewidth": 0,
             "ticks": ""
            },
            "colorscale": [
             [
              0,
              "#0d0887"
             ],
             [
              0.1111111111111111,
              "#46039f"
             ],
             [
              0.2222222222222222,
              "#7201a8"
             ],
             [
              0.3333333333333333,
              "#9c179e"
             ],
             [
              0.4444444444444444,
              "#bd3786"
             ],
             [
              0.5555555555555556,
              "#d8576b"
             ],
             [
              0.6666666666666666,
              "#ed7953"
             ],
             [
              0.7777777777777778,
              "#fb9f3a"
             ],
             [
              0.8888888888888888,
              "#fdca26"
             ],
             [
              1,
              "#f0f921"
             ]
            ],
            "type": "histogram2dcontour"
           }
          ],
          "mesh3d": [
           {
            "colorbar": {
             "outlinewidth": 0,
             "ticks": ""
            },
            "type": "mesh3d"
           }
          ],
          "parcoords": [
           {
            "line": {
             "colorbar": {
              "outlinewidth": 0,
              "ticks": ""
             }
            },
            "type": "parcoords"
           }
          ],
          "pie": [
           {
            "automargin": true,
            "type": "pie"
           }
          ],
          "scatter": [
           {
            "fillpattern": {
             "fillmode": "overlay",
             "size": 10,
             "solidity": 0.2
            },
            "type": "scatter"
           }
          ],
          "scatter3d": [
           {
            "line": {
             "colorbar": {
              "outlinewidth": 0,
              "ticks": ""
             }
            },
            "marker": {
             "colorbar": {
              "outlinewidth": 0,
              "ticks": ""
             }
            },
            "type": "scatter3d"
           }
          ],
          "scattercarpet": [
           {
            "marker": {
             "colorbar": {
              "outlinewidth": 0,
              "ticks": ""
             }
            },
            "type": "scattercarpet"
           }
          ],
          "scattergeo": [
           {
            "marker": {
             "colorbar": {
              "outlinewidth": 0,
              "ticks": ""
             }
            },
            "type": "scattergeo"
           }
          ],
          "scattergl": [
           {
            "marker": {
             "colorbar": {
              "outlinewidth": 0,
              "ticks": ""
             }
            },
            "type": "scattergl"
           }
          ],
          "scattermapbox": [
           {
            "marker": {
             "colorbar": {
              "outlinewidth": 0,
              "ticks": ""
             }
            },
            "type": "scattermapbox"
           }
          ],
          "scatterpolar": [
           {
            "marker": {
             "colorbar": {
              "outlinewidth": 0,
              "ticks": ""
             }
            },
            "type": "scatterpolar"
           }
          ],
          "scatterpolargl": [
           {
            "marker": {
             "colorbar": {
              "outlinewidth": 0,
              "ticks": ""
             }
            },
            "type": "scatterpolargl"
           }
          ],
          "scatterternary": [
           {
            "marker": {
             "colorbar": {
              "outlinewidth": 0,
              "ticks": ""
             }
            },
            "type": "scatterternary"
           }
          ],
          "surface": [
           {
            "colorbar": {
             "outlinewidth": 0,
             "ticks": ""
            },
            "colorscale": [
             [
              0,
              "#0d0887"
             ],
             [
              0.1111111111111111,
              "#46039f"
             ],
             [
              0.2222222222222222,
              "#7201a8"
             ],
             [
              0.3333333333333333,
              "#9c179e"
             ],
             [
              0.4444444444444444,
              "#bd3786"
             ],
             [
              0.5555555555555556,
              "#d8576b"
             ],
             [
              0.6666666666666666,
              "#ed7953"
             ],
             [
              0.7777777777777778,
              "#fb9f3a"
             ],
             [
              0.8888888888888888,
              "#fdca26"
             ],
             [
              1,
              "#f0f921"
             ]
            ],
            "type": "surface"
           }
          ],
          "table": [
           {
            "cells": {
             "fill": {
              "color": "#EBF0F8"
             },
             "line": {
              "color": "white"
             }
            },
            "header": {
             "fill": {
              "color": "#C8D4E3"
             },
             "line": {
              "color": "white"
             }
            },
            "type": "table"
           }
          ]
         },
         "layout": {
          "annotationdefaults": {
           "arrowcolor": "#2a3f5f",
           "arrowhead": 0,
           "arrowwidth": 1
          },
          "autotypenumbers": "strict",
          "coloraxis": {
           "colorbar": {
            "outlinewidth": 0,
            "ticks": ""
           }
          },
          "colorscale": {
           "diverging": [
            [
             0,
             "#8e0152"
            ],
            [
             0.1,
             "#c51b7d"
            ],
            [
             0.2,
             "#de77ae"
            ],
            [
             0.3,
             "#f1b6da"
            ],
            [
             0.4,
             "#fde0ef"
            ],
            [
             0.5,
             "#f7f7f7"
            ],
            [
             0.6,
             "#e6f5d0"
            ],
            [
             0.7,
             "#b8e186"
            ],
            [
             0.8,
             "#7fbc41"
            ],
            [
             0.9,
             "#4d9221"
            ],
            [
             1,
             "#276419"
            ]
           ],
           "sequential": [
            [
             0,
             "#0d0887"
            ],
            [
             0.1111111111111111,
             "#46039f"
            ],
            [
             0.2222222222222222,
             "#7201a8"
            ],
            [
             0.3333333333333333,
             "#9c179e"
            ],
            [
             0.4444444444444444,
             "#bd3786"
            ],
            [
             0.5555555555555556,
             "#d8576b"
            ],
            [
             0.6666666666666666,
             "#ed7953"
            ],
            [
             0.7777777777777778,
             "#fb9f3a"
            ],
            [
             0.8888888888888888,
             "#fdca26"
            ],
            [
             1,
             "#f0f921"
            ]
           ],
           "sequentialminus": [
            [
             0,
             "#0d0887"
            ],
            [
             0.1111111111111111,
             "#46039f"
            ],
            [
             0.2222222222222222,
             "#7201a8"
            ],
            [
             0.3333333333333333,
             "#9c179e"
            ],
            [
             0.4444444444444444,
             "#bd3786"
            ],
            [
             0.5555555555555556,
             "#d8576b"
            ],
            [
             0.6666666666666666,
             "#ed7953"
            ],
            [
             0.7777777777777778,
             "#fb9f3a"
            ],
            [
             0.8888888888888888,
             "#fdca26"
            ],
            [
             1,
             "#f0f921"
            ]
           ]
          },
          "colorway": [
           "#636efa",
           "#EF553B",
           "#00cc96",
           "#ab63fa",
           "#FFA15A",
           "#19d3f3",
           "#FF6692",
           "#B6E880",
           "#FF97FF",
           "#FECB52"
          ],
          "font": {
           "color": "#2a3f5f"
          },
          "geo": {
           "bgcolor": "white",
           "lakecolor": "white",
           "landcolor": "#E5ECF6",
           "showlakes": true,
           "showland": true,
           "subunitcolor": "white"
          },
          "hoverlabel": {
           "align": "left"
          },
          "hovermode": "closest",
          "mapbox": {
           "style": "light"
          },
          "paper_bgcolor": "white",
          "plot_bgcolor": "#E5ECF6",
          "polar": {
           "angularaxis": {
            "gridcolor": "white",
            "linecolor": "white",
            "ticks": ""
           },
           "bgcolor": "#E5ECF6",
           "radialaxis": {
            "gridcolor": "white",
            "linecolor": "white",
            "ticks": ""
           }
          },
          "scene": {
           "xaxis": {
            "backgroundcolor": "#E5ECF6",
            "gridcolor": "white",
            "gridwidth": 2,
            "linecolor": "white",
            "showbackground": true,
            "ticks": "",
            "zerolinecolor": "white"
           },
           "yaxis": {
            "backgroundcolor": "#E5ECF6",
            "gridcolor": "white",
            "gridwidth": 2,
            "linecolor": "white",
            "showbackground": true,
            "ticks": "",
            "zerolinecolor": "white"
           },
           "zaxis": {
            "backgroundcolor": "#E5ECF6",
            "gridcolor": "white",
            "gridwidth": 2,
            "linecolor": "white",
            "showbackground": true,
            "ticks": "",
            "zerolinecolor": "white"
           }
          },
          "shapedefaults": {
           "line": {
            "color": "#2a3f5f"
           }
          },
          "ternary": {
           "aaxis": {
            "gridcolor": "white",
            "linecolor": "white",
            "ticks": ""
           },
           "baxis": {
            "gridcolor": "white",
            "linecolor": "white",
            "ticks": ""
           },
           "bgcolor": "#E5ECF6",
           "caxis": {
            "gridcolor": "white",
            "linecolor": "white",
            "ticks": ""
           }
          },
          "title": {
           "x": 0.05
          },
          "xaxis": {
           "automargin": true,
           "gridcolor": "white",
           "linecolor": "white",
           "ticks": "",
           "title": {
            "standoff": 15
           },
           "zerolinecolor": "white",
           "zerolinewidth": 2
          },
          "yaxis": {
           "automargin": true,
           "gridcolor": "white",
           "linecolor": "white",
           "ticks": "",
           "title": {
            "standoff": 15
           },
           "zerolinecolor": "white",
           "zerolinewidth": 2
          }
         }
        },
        "title": {
         "text": "Avg Basesalary by Country by Company"
        },
        "updatemenus": [
         {
          "buttons": [
           {
            "args": [
             {
              "type": "bar",
              "x": [
               [
                "Australia",
                "Canada",
                "Germany",
                "India",
                "Ireland",
                "Israel",
                "Netherlands",
                "Russia",
                "Singapore",
                "Switzerland",
                "USA",
                "United Kingdom"
               ]
              ],
              "y": [
               [
                "Australia",
                "Canada",
                "Germany",
                "India",
                "Ireland",
                "Israel",
                "Netherlands",
                "Russia",
                "Singapore",
                "Switzerland",
                "USA",
                "United Kingdom"
               ]
              ]
             },
             [
              0
             ]
            ],
            "label": "Country",
            "method": "restyle",
            "visible": true
           },
           {
            "args": [
             {
              "type": "bar",
              "x": [
               [
                "Australia",
                "Canada",
                "Germany",
                "India",
                "Ireland",
                "Israel",
                "Netherlands",
                "Russia",
                "Singapore",
                "Switzerland",
                "USA",
                "United Kingdom"
               ]
              ],
              "y": [
               [
                181502.60634314042,
                157830.23932407706,
                131994.56946564294,
                71750.03473396787,
                139211.9798921579,
                174600,
                144316.66666666666,
                null,
                215133.33333333334,
                210000,
                201722.95579235972,
                128054.95505795404
               ]
              ]
             },
             [
              0
             ]
            ],
            "label": "Amazon",
            "method": "restyle",
            "visible": true
           },
           {
            "args": [
             {
              "type": "bar",
              "x": [
               [
                "Australia",
                "Canada",
                "Germany",
                "India",
                "Ireland",
                "Israel",
                "Netherlands",
                "Russia",
                "Singapore",
                "Switzerland",
                "USA",
                "United Kingdom"
               ]
              ],
              "y": [
               [
                162526.4985396477,
                156226.4985396477,
                156846.66666666666,
                64525.83929690473,
                151289.78055024784,
                205357.8947368421,
                100100,
                null,
                181611.11111111112,
                245160.67125558265,
                224626.2430428819,
                163821.8774705918
               ]
              ]
             },
             [
              0
             ]
            ],
            "label": "Google",
            "method": "restyle",
            "visible": true
           },
           {
            "args": [
             {
              "type": "bar",
              "x": [
               [
                "Australia",
                "Canada",
                "Germany",
                "India",
                "Ireland",
                "Israel",
                "Netherlands",
                "Russia",
                "Singapore",
                "Switzerland",
                "USA",
                "United Kingdom"
               ]
              ],
              "y": [
               [
                171500,
                133587.35738174993,
                122000,
                58450,
                101400,
                192362.68884642734,
                null,
                49000,
                56000,
                248733.33333333334,
                198139.43571119447,
                143707.81902942123
               ]
              ]
             },
             [
              0
             ]
            ],
            "label": "IBM",
            "method": "restyle",
            "visible": true
           },
           {
            "args": [
             {
              "type": "bar",
              "x": [
               [
                "Australia",
                "Canada",
                "Germany",
                "India",
                "Ireland",
                "Israel",
                "Netherlands",
                "Russia",
                "Singapore",
                "Switzerland",
                "USA",
                "United Kingdom"
               ]
              ],
              "y": [
               [
                156162.89443382903,
                142803.09100326902,
                150400,
                61617.09751599236,
                145205.15777353162,
                183184.61538461538,
                175000,
                82600,
                214550,
                214550,
                211895.76543758175,
                167363.37450605733
               ]
              ]
             },
             [
              0
             ]
            ],
            "label": "Microsoft",
            "method": "restyle",
            "visible": true
           },
           {
            "args": [
             {
              "type": "bar",
              "x": [
               [
                "Australia",
                "Canada",
                "Germany",
                "India",
                "Ireland",
                "Israel",
                "Netherlands",
                "Russia",
                "Singapore",
                "Switzerland",
                "USA",
                "United Kingdom"
               ]
              ],
              "y": [
               [
                206500,
                135162.67386010254,
                109202.9585516729,
                50824.242424242424,
                65100,
                147700,
                null,
                91700,
                196000,
                126000,
                198964.11101136304,
                181300
               ]
              ]
             },
             [
              0
             ]
            ],
            "label": "SAP",
            "method": "restyle",
            "visible": true
           }
          ],
          "direction": "down",
          "showactive": true
         }
        ],
        "xaxis": {
         "categoryorder": "total descending"
        }
       }
      },
      "text/html": [
       "<div>                            <div id=\"029a6d48-1ee4-4956-a151-64463658fa39\" class=\"plotly-graph-div\" style=\"height:525px; width:100%;\"></div>            <script type=\"text/javascript\">                require([\"plotly\"], function(Plotly) {                    window.PLOTLYENV=window.PLOTLYENV || {};                                    if (document.getElementById(\"029a6d48-1ee4-4956-a151-64463658fa39\")) {                    Plotly.newPlot(                        \"029a6d48-1ee4-4956-a151-64463658fa39\",                        [{\"x\":[\"Australia\",\"Canada\",\"Germany\",\"India\",\"Ireland\",\"Israel\",\"Netherlands\",\"Russia\",\"Singapore\",\"Switzerland\",\"USA\",\"United Kingdom\"],\"y\":[181502.60634314042,157830.23932407706,131994.56946564294,71750.03473396787,139211.9798921579,174600.0,144316.66666666666,null,215133.33333333334,210000.0,201722.95579235972,128054.95505795404],\"type\":\"bar\"}],                        {\"template\":{\"data\":{\"histogram2dcontour\":[{\"type\":\"histogram2dcontour\",\"colorbar\":{\"outlinewidth\":0,\"ticks\":\"\"},\"colorscale\":[[0.0,\"#0d0887\"],[0.1111111111111111,\"#46039f\"],[0.2222222222222222,\"#7201a8\"],[0.3333333333333333,\"#9c179e\"],[0.4444444444444444,\"#bd3786\"],[0.5555555555555556,\"#d8576b\"],[0.6666666666666666,\"#ed7953\"],[0.7777777777777778,\"#fb9f3a\"],[0.8888888888888888,\"#fdca26\"],[1.0,\"#f0f921\"]]}],\"choropleth\":[{\"type\":\"choropleth\",\"colorbar\":{\"outlinewidth\":0,\"ticks\":\"\"}}],\"histogram2d\":[{\"type\":\"histogram2d\",\"colorbar\":{\"outlinewidth\":0,\"ticks\":\"\"},\"colorscale\":[[0.0,\"#0d0887\"],[0.1111111111111111,\"#46039f\"],[0.2222222222222222,\"#7201a8\"],[0.3333333333333333,\"#9c179e\"],[0.4444444444444444,\"#bd3786\"],[0.5555555555555556,\"#d8576b\"],[0.6666666666666666,\"#ed7953\"],[0.7777777777777778,\"#fb9f3a\"],[0.8888888888888888,\"#fdca26\"],[1.0,\"#f0f921\"]]}],\"heatmap\":[{\"type\":\"heatmap\",\"colorbar\":{\"outlinewidth\":0,\"ticks\":\"\"},\"colorscale\":[[0.0,\"#0d0887\"],[0.1111111111111111,\"#46039f\"],[0.2222222222222222,\"#7201a8\"],[0.3333333333333333,\"#9c179e\"],[0.4444444444444444,\"#bd3786\"],[0.5555555555555556,\"#d8576b\"],[0.6666666666666666,\"#ed7953\"],[0.7777777777777778,\"#fb9f3a\"],[0.8888888888888888,\"#fdca26\"],[1.0,\"#f0f921\"]]}],\"heatmapgl\":[{\"type\":\"heatmapgl\",\"colorbar\":{\"outlinewidth\":0,\"ticks\":\"\"},\"colorscale\":[[0.0,\"#0d0887\"],[0.1111111111111111,\"#46039f\"],[0.2222222222222222,\"#7201a8\"],[0.3333333333333333,\"#9c179e\"],[0.4444444444444444,\"#bd3786\"],[0.5555555555555556,\"#d8576b\"],[0.6666666666666666,\"#ed7953\"],[0.7777777777777778,\"#fb9f3a\"],[0.8888888888888888,\"#fdca26\"],[1.0,\"#f0f921\"]]}],\"contourcarpet\":[{\"type\":\"contourcarpet\",\"colorbar\":{\"outlinewidth\":0,\"ticks\":\"\"}}],\"contour\":[{\"type\":\"contour\",\"colorbar\":{\"outlinewidth\":0,\"ticks\":\"\"},\"colorscale\":[[0.0,\"#0d0887\"],[0.1111111111111111,\"#46039f\"],[0.2222222222222222,\"#7201a8\"],[0.3333333333333333,\"#9c179e\"],[0.4444444444444444,\"#bd3786\"],[0.5555555555555556,\"#d8576b\"],[0.6666666666666666,\"#ed7953\"],[0.7777777777777778,\"#fb9f3a\"],[0.8888888888888888,\"#fdca26\"],[1.0,\"#f0f921\"]]}],\"surface\":[{\"type\":\"surface\",\"colorbar\":{\"outlinewidth\":0,\"ticks\":\"\"},\"colorscale\":[[0.0,\"#0d0887\"],[0.1111111111111111,\"#46039f\"],[0.2222222222222222,\"#7201a8\"],[0.3333333333333333,\"#9c179e\"],[0.4444444444444444,\"#bd3786\"],[0.5555555555555556,\"#d8576b\"],[0.6666666666666666,\"#ed7953\"],[0.7777777777777778,\"#fb9f3a\"],[0.8888888888888888,\"#fdca26\"],[1.0,\"#f0f921\"]]}],\"mesh3d\":[{\"type\":\"mesh3d\",\"colorbar\":{\"outlinewidth\":0,\"ticks\":\"\"}}],\"scatter\":[{\"fillpattern\":{\"fillmode\":\"overlay\",\"size\":10,\"solidity\":0.2},\"type\":\"scatter\"}],\"parcoords\":[{\"type\":\"parcoords\",\"line\":{\"colorbar\":{\"outlinewidth\":0,\"ticks\":\"\"}}}],\"scatterpolargl\":[{\"type\":\"scatterpolargl\",\"marker\":{\"colorbar\":{\"outlinewidth\":0,\"ticks\":\"\"}}}],\"bar\":[{\"error_x\":{\"color\":\"#2a3f5f\"},\"error_y\":{\"color\":\"#2a3f5f\"},\"marker\":{\"line\":{\"color\":\"#E5ECF6\",\"width\":0.5},\"pattern\":{\"fillmode\":\"overlay\",\"size\":10,\"solidity\":0.2}},\"type\":\"bar\"}],\"scattergeo\":[{\"type\":\"scattergeo\",\"marker\":{\"colorbar\":{\"outlinewidth\":0,\"ticks\":\"\"}}}],\"scatterpolar\":[{\"type\":\"scatterpolar\",\"marker\":{\"colorbar\":{\"outlinewidth\":0,\"ticks\":\"\"}}}],\"histogram\":[{\"marker\":{\"pattern\":{\"fillmode\":\"overlay\",\"size\":10,\"solidity\":0.2}},\"type\":\"histogram\"}],\"scattergl\":[{\"type\":\"scattergl\",\"marker\":{\"colorbar\":{\"outlinewidth\":0,\"ticks\":\"\"}}}],\"scatter3d\":[{\"type\":\"scatter3d\",\"line\":{\"colorbar\":{\"outlinewidth\":0,\"ticks\":\"\"}},\"marker\":{\"colorbar\":{\"outlinewidth\":0,\"ticks\":\"\"}}}],\"scattermapbox\":[{\"type\":\"scattermapbox\",\"marker\":{\"colorbar\":{\"outlinewidth\":0,\"ticks\":\"\"}}}],\"scatterternary\":[{\"type\":\"scatterternary\",\"marker\":{\"colorbar\":{\"outlinewidth\":0,\"ticks\":\"\"}}}],\"scattercarpet\":[{\"type\":\"scattercarpet\",\"marker\":{\"colorbar\":{\"outlinewidth\":0,\"ticks\":\"\"}}}],\"carpet\":[{\"aaxis\":{\"endlinecolor\":\"#2a3f5f\",\"gridcolor\":\"white\",\"linecolor\":\"white\",\"minorgridcolor\":\"white\",\"startlinecolor\":\"#2a3f5f\"},\"baxis\":{\"endlinecolor\":\"#2a3f5f\",\"gridcolor\":\"white\",\"linecolor\":\"white\",\"minorgridcolor\":\"white\",\"startlinecolor\":\"#2a3f5f\"},\"type\":\"carpet\"}],\"table\":[{\"cells\":{\"fill\":{\"color\":\"#EBF0F8\"},\"line\":{\"color\":\"white\"}},\"header\":{\"fill\":{\"color\":\"#C8D4E3\"},\"line\":{\"color\":\"white\"}},\"type\":\"table\"}],\"barpolar\":[{\"marker\":{\"line\":{\"color\":\"#E5ECF6\",\"width\":0.5},\"pattern\":{\"fillmode\":\"overlay\",\"size\":10,\"solidity\":0.2}},\"type\":\"barpolar\"}],\"pie\":[{\"automargin\":true,\"type\":\"pie\"}]},\"layout\":{\"autotypenumbers\":\"strict\",\"colorway\":[\"#636efa\",\"#EF553B\",\"#00cc96\",\"#ab63fa\",\"#FFA15A\",\"#19d3f3\",\"#FF6692\",\"#B6E880\",\"#FF97FF\",\"#FECB52\"],\"font\":{\"color\":\"#2a3f5f\"},\"hovermode\":\"closest\",\"hoverlabel\":{\"align\":\"left\"},\"paper_bgcolor\":\"white\",\"plot_bgcolor\":\"#E5ECF6\",\"polar\":{\"bgcolor\":\"#E5ECF6\",\"angularaxis\":{\"gridcolor\":\"white\",\"linecolor\":\"white\",\"ticks\":\"\"},\"radialaxis\":{\"gridcolor\":\"white\",\"linecolor\":\"white\",\"ticks\":\"\"}},\"ternary\":{\"bgcolor\":\"#E5ECF6\",\"aaxis\":{\"gridcolor\":\"white\",\"linecolor\":\"white\",\"ticks\":\"\"},\"baxis\":{\"gridcolor\":\"white\",\"linecolor\":\"white\",\"ticks\":\"\"},\"caxis\":{\"gridcolor\":\"white\",\"linecolor\":\"white\",\"ticks\":\"\"}},\"coloraxis\":{\"colorbar\":{\"outlinewidth\":0,\"ticks\":\"\"}},\"colorscale\":{\"sequential\":[[0.0,\"#0d0887\"],[0.1111111111111111,\"#46039f\"],[0.2222222222222222,\"#7201a8\"],[0.3333333333333333,\"#9c179e\"],[0.4444444444444444,\"#bd3786\"],[0.5555555555555556,\"#d8576b\"],[0.6666666666666666,\"#ed7953\"],[0.7777777777777778,\"#fb9f3a\"],[0.8888888888888888,\"#fdca26\"],[1.0,\"#f0f921\"]],\"sequentialminus\":[[0.0,\"#0d0887\"],[0.1111111111111111,\"#46039f\"],[0.2222222222222222,\"#7201a8\"],[0.3333333333333333,\"#9c179e\"],[0.4444444444444444,\"#bd3786\"],[0.5555555555555556,\"#d8576b\"],[0.6666666666666666,\"#ed7953\"],[0.7777777777777778,\"#fb9f3a\"],[0.8888888888888888,\"#fdca26\"],[1.0,\"#f0f921\"]],\"diverging\":[[0,\"#8e0152\"],[0.1,\"#c51b7d\"],[0.2,\"#de77ae\"],[0.3,\"#f1b6da\"],[0.4,\"#fde0ef\"],[0.5,\"#f7f7f7\"],[0.6,\"#e6f5d0\"],[0.7,\"#b8e186\"],[0.8,\"#7fbc41\"],[0.9,\"#4d9221\"],[1,\"#276419\"]]},\"xaxis\":{\"gridcolor\":\"white\",\"linecolor\":\"white\",\"ticks\":\"\",\"title\":{\"standoff\":15},\"zerolinecolor\":\"white\",\"automargin\":true,\"zerolinewidth\":2},\"yaxis\":{\"gridcolor\":\"white\",\"linecolor\":\"white\",\"ticks\":\"\",\"title\":{\"standoff\":15},\"zerolinecolor\":\"white\",\"automargin\":true,\"zerolinewidth\":2},\"scene\":{\"xaxis\":{\"backgroundcolor\":\"#E5ECF6\",\"gridcolor\":\"white\",\"linecolor\":\"white\",\"showbackground\":true,\"ticks\":\"\",\"zerolinecolor\":\"white\",\"gridwidth\":2},\"yaxis\":{\"backgroundcolor\":\"#E5ECF6\",\"gridcolor\":\"white\",\"linecolor\":\"white\",\"showbackground\":true,\"ticks\":\"\",\"zerolinecolor\":\"white\",\"gridwidth\":2},\"zaxis\":{\"backgroundcolor\":\"#E5ECF6\",\"gridcolor\":\"white\",\"linecolor\":\"white\",\"showbackground\":true,\"ticks\":\"\",\"zerolinecolor\":\"white\",\"gridwidth\":2}},\"shapedefaults\":{\"line\":{\"color\":\"#2a3f5f\"}},\"annotationdefaults\":{\"arrowcolor\":\"#2a3f5f\",\"arrowhead\":0,\"arrowwidth\":1},\"geo\":{\"bgcolor\":\"white\",\"landcolor\":\"#E5ECF6\",\"subunitcolor\":\"white\",\"showland\":true,\"showlakes\":true,\"lakecolor\":\"white\"},\"title\":{\"x\":0.05},\"mapbox\":{\"style\":\"light\"}}},\"xaxis\":{\"categoryorder\":\"total descending\"},\"showlegend\":false,\"updatemenus\":[{\"buttons\":[{\"args\":[{\"y\":[[\"Australia\",\"Canada\",\"Germany\",\"India\",\"Ireland\",\"Israel\",\"Netherlands\",\"Russia\",\"Singapore\",\"Switzerland\",\"USA\",\"United Kingdom\"]],\"x\":[[\"Australia\",\"Canada\",\"Germany\",\"India\",\"Ireland\",\"Israel\",\"Netherlands\",\"Russia\",\"Singapore\",\"Switzerland\",\"USA\",\"United Kingdom\"]],\"type\":\"bar\"},[0]],\"label\":\"Country\",\"method\":\"restyle\",\"visible\":true},{\"args\":[{\"y\":[[181502.60634314042,157830.23932407706,131994.56946564294,71750.03473396787,139211.9798921579,174600.0,144316.66666666666,null,215133.33333333334,210000.0,201722.95579235972,128054.95505795404]],\"x\":[[\"Australia\",\"Canada\",\"Germany\",\"India\",\"Ireland\",\"Israel\",\"Netherlands\",\"Russia\",\"Singapore\",\"Switzerland\",\"USA\",\"United Kingdom\"]],\"type\":\"bar\"},[0]],\"label\":\"Amazon\",\"method\":\"restyle\",\"visible\":true},{\"args\":[{\"y\":[[162526.4985396477,156226.4985396477,156846.66666666666,64525.83929690473,151289.78055024784,205357.8947368421,100100.0,null,181611.11111111112,245160.67125558265,224626.2430428819,163821.8774705918]],\"x\":[[\"Australia\",\"Canada\",\"Germany\",\"India\",\"Ireland\",\"Israel\",\"Netherlands\",\"Russia\",\"Singapore\",\"Switzerland\",\"USA\",\"United Kingdom\"]],\"type\":\"bar\"},[0]],\"label\":\"Google\",\"method\":\"restyle\",\"visible\":true},{\"args\":[{\"y\":[[171500.0,133587.35738174993,122000.0,58450.0,101400.0,192362.68884642734,null,49000.0,56000.0,248733.33333333334,198139.43571119447,143707.81902942123]],\"x\":[[\"Australia\",\"Canada\",\"Germany\",\"India\",\"Ireland\",\"Israel\",\"Netherlands\",\"Russia\",\"Singapore\",\"Switzerland\",\"USA\",\"United Kingdom\"]],\"type\":\"bar\"},[0]],\"label\":\"IBM\",\"method\":\"restyle\",\"visible\":true},{\"args\":[{\"y\":[[156162.89443382903,142803.09100326902,150400.0,61617.09751599236,145205.15777353162,183184.61538461538,175000.0,82600.0,214550.0,214550.0,211895.76543758175,167363.37450605733]],\"x\":[[\"Australia\",\"Canada\",\"Germany\",\"India\",\"Ireland\",\"Israel\",\"Netherlands\",\"Russia\",\"Singapore\",\"Switzerland\",\"USA\",\"United Kingdom\"]],\"type\":\"bar\"},[0]],\"label\":\"Microsoft\",\"method\":\"restyle\",\"visible\":true},{\"args\":[{\"y\":[[206500.0,135162.67386010254,109202.9585516729,50824.242424242424,65100.0,147700.0,null,91700.0,196000.0,126000.0,198964.11101136304,181300.0]],\"x\":[[\"Australia\",\"Canada\",\"Germany\",\"India\",\"Ireland\",\"Israel\",\"Netherlands\",\"Russia\",\"Singapore\",\"Switzerland\",\"USA\",\"United Kingdom\"]],\"type\":\"bar\"},[0]],\"label\":\"SAP\",\"method\":\"restyle\",\"visible\":true}],\"direction\":\"down\",\"showactive\":true}],\"title\":{\"text\":\"Avg Basesalary by Country by Company\"},\"barmode\":\"stack\"},                        {\"responsive\": true}                    ).then(function(){\n",
       "                            \n",
       "var gd = document.getElementById('029a6d48-1ee4-4956-a151-64463658fa39');\n",
       "var x = new MutationObserver(function (mutations, observer) {{\n",
       "        var display = window.getComputedStyle(gd).display;\n",
       "        if (!display || display === 'none') {{\n",
       "            console.log([gd, 'removed!']);\n",
       "            Plotly.purge(gd);\n",
       "            observer.disconnect();\n",
       "        }}\n",
       "}});\n",
       "\n",
       "// Listen for the removal of the full notebook cells\n",
       "var notebookContainer = gd.closest('#notebook-container');\n",
       "if (notebookContainer) {{\n",
       "    x.observe(notebookContainer, {childList: true});\n",
       "}}\n",
       "\n",
       "// Listen for the clearing of the current output cell\n",
       "var outputEl = gd.closest('.output');\n",
       "if (outputEl) {{\n",
       "    x.observe(outputEl, {childList: true});\n",
       "}}\n",
       "\n",
       "                        })                };                });            </script>        </div>"
      ]
     },
     "metadata": {},
     "output_type": "display_data"
    }
   ],
   "source": [
    "#Template code for creating a boxplot with dropdown option in output\n",
    "\n",
    "fig_SG_vs_overseas = go.Figure()\n",
    "\n",
    "fig_SG_vs_overseas.add_trace(go.Bar(x = SG_vs_overseas_11['Country'], y = SG_vs_overseas_11[SG_vs_overseas_11.columns[1]]))\n",
    "\n",
    "updatemenu = []\n",
    "buttons = []\n",
    "\n",
    "for col in SG_vs_overseas_11.columns:\n",
    "    buttons.append(dict(method='restyle',\n",
    "                        label=col,\n",
    "                        visible=True,\n",
    "                        args=[{'y':[SG_vs_overseas_11[col]],\n",
    "                               'x':[SG_vs_overseas_11['Country']],\n",
    "                               'type':'bar'}, [0]],\n",
    "                        )\n",
    "                  )\n",
    "\n",
    "# some adjustments to the updatemenus\n",
    "updatemenu = []\n",
    "your_menu = dict()\n",
    "updatemenu.append(your_menu)\n",
    "\n",
    "updatemenu[0]['buttons'] = buttons\n",
    "updatemenu[0]['direction'] = 'down'\n",
    "updatemenu[0]['showactive'] = True\n",
    "\n",
    "# add dropdown menus to the figure\n",
    "fig_SG_vs_overseas.update_layout(showlegend=False, updatemenus=updatemenu, title = 'Avg Basesalary by Country by Company', barmode = 'stack', xaxis = {'categoryorder': 'total descending'})\n",
    "\n",
    "fig_SG_vs_overseas.show()"
   ]
  },
  {
   "cell_type": "code",
   "execution_count": 83,
   "metadata": {},
   "outputs": [],
   "source": [
    "#Our objective:\n",
    "\n",
    "#Caveat that standard of living between countries are different\n",
    "#Having domain knowledge of your industry is good as well\n",
    "#Can compare companies that give stock grants vs companies that don't or differing between levels in terms of stock grant value\n",
    "#Focus on companies that provide more than a certain numebr of entries because we want to focus on bigger companies with stronger G-power analysis"
   ]
  }
 ],
 "metadata": {
  "kernelspec": {
   "display_name": "Python 3.10.4 ('applied_data_science')",
   "language": "python",
   "name": "python3"
  },
  "language_info": {
   "codemirror_mode": {
    "name": "ipython",
    "version": 3
   },
   "file_extension": ".py",
   "mimetype": "text/x-python",
   "name": "python",
   "nbconvert_exporter": "python",
   "pygments_lexer": "ipython3",
   "version": "3.10.4"
  },
  "orig_nbformat": 4,
  "vscode": {
   "interpreter": {
    "hash": "6c787ffc59f184150a52190fefe6a6b2e84ea9e55349484aa0b789b3d99c2a77"
   }
  }
 },
 "nbformat": 4,
 "nbformat_minor": 2
}
